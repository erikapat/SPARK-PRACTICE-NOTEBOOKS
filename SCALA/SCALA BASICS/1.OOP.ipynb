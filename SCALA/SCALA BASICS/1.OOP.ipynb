{
 "cells": [
  {
   "cell_type": "markdown",
   "metadata": {},
   "source": [
    "## **OOP SCALA**\n",
    "\n",
    "https://www.youtube.com/watch?v=t6a5jM9hYg8&feature=youtu.be\n",
    "\n",
    "**Important concepts:**\n",
    "\n",
    "- Fields\n",
    "- Constructors\n",
    "- Methods\n",
    "- Superclasses (inheritance)\n",
    "- Interfaces implemented by the class"
   ]
  },
  {
   "cell_type": "markdown",
   "metadata": {},
   "source": [
    "## **Example of classes with an unique instance**\n",
    "\n",
    "This is a class with a method inside, that have a return type specified."
   ]
  },
  {
   "cell_type": "code",
   "execution_count": 7,
   "metadata": {},
   "outputs": [
    {
     "data": {
      "text/plain": [
       "defined object MainClass1\n"
      ]
     },
     "execution_count": 7,
     "metadata": {},
     "output_type": "execute_result"
    }
   ],
   "source": [
    "object MainClass1 {\n",
    "    def main(args:Array[String]): Unit = { //only parameter an array of strings\n",
    "        println(\"Hello world\") // print\n",
    "    } \n",
    "}"
   ]
  },
  {
   "cell_type": "markdown",
   "metadata": {},
   "source": [
    "## **Example of classes and inheritage**"
   ]
  },
  {
   "cell_type": "code",
   "execution_count": 8,
   "metadata": {},
   "outputs": [
    {
     "data": {
      "text/plain": [
       "defined object MainClass2\n"
      ]
     },
     "execution_count": 8,
     "metadata": {},
     "output_type": "execute_result"
    }
   ],
   "source": [
    "object MainClass2 extends App { // app is an interface taht makes that \n",
    "                                //   all the content of the class is executable\n",
    "    println(\"Hello World\")\n",
    "}"
   ]
  },
  {
   "cell_type": "markdown",
   "metadata": {},
   "source": [
    "## **Type of variables**\n",
    "\n",
    "* **Mutable Variables:** These variables are those variables which allow us to change a value after the declaration of a variable. Mutable variables are defined by using the “var” keyword.\n",
    "* **Immutable Variables:** These variables are those variables which do not allow you to change a value after the declaration of a variable. Immutable variables are defined by using the “val” keyword."
   ]
  },
  {
   "cell_type": "markdown",
   "metadata": {},
   "source": [
    "**VAR**(mutable): our parameters does not change"
   ]
  },
  {
   "cell_type": "code",
   "execution_count": 9,
   "metadata": {},
   "outputs": [
    {
     "data": {
      "text/plain": [
       "defined class Bicicleta\n"
      ]
     },
     "execution_count": 9,
     "metadata": {},
     "output_type": "execute_result"
    }
   ],
   "source": [
    "class Bicicleta(_cadencia: Int, _marcha: Int, _velocidad: Int){\n",
    "    var cadencia: Int = _cadencia\n",
    "    var marcha: Int = _marcha\n",
    "    var velocidad: Int = _velocidad\n",
    "}"
   ]
  },
  {
   "cell_type": "code",
   "execution_count": 10,
   "metadata": {},
   "outputs": [
    {
     "data": {
      "text/plain": [
       "b1: Bicicleta = Bicicleta@240f77c4\n"
      ]
     },
     "execution_count": 10,
     "metadata": {},
     "output_type": "execute_result"
    }
   ],
   "source": [
    "//instanciar\n",
    "val b1 = new Bicicleta(1,10, 100)"
   ]
  },
  {
   "cell_type": "code",
   "execution_count": 11,
   "metadata": {},
   "outputs": [
    {
     "data": {
      "text/plain": [
       "res2: Int = 1\n"
      ]
     },
     "execution_count": 11,
     "metadata": {},
     "output_type": "execute_result"
    }
   ],
   "source": [
    "b1.cadencia"
   ]
  },
  {
   "cell_type": "code",
   "execution_count": 12,
   "metadata": {},
   "outputs": [
    {
     "data": {
      "text/plain": [
       "b1.cadencia: Int = 20\n"
      ]
     },
     "execution_count": 12,
     "metadata": {},
     "output_type": "execute_result"
    }
   ],
   "source": [
    "// change the value (mutable)\n",
    "b1.cadencia = 20"
   ]
  },
  {
   "cell_type": "code",
   "execution_count": 13,
   "metadata": {},
   "outputs": [
    {
     "data": {
      "text/plain": [
       "res3: Int = 20\n"
      ]
     },
     "execution_count": 13,
     "metadata": {},
     "output_type": "execute_result"
    }
   ],
   "source": [
    "b1.cadencia"
   ]
  },
  {
   "cell_type": "markdown",
   "metadata": {},
   "source": [
    "**VAL**(Immutable): our parameters does not change\n",
    "\n",
    "- Nobody can change the internal values of the object."
   ]
  },
  {
   "cell_type": "code",
   "execution_count": 14,
   "metadata": {},
   "outputs": [
    {
     "data": {
      "text/plain": [
       "defined class Bicicleta\n"
      ]
     },
     "execution_count": 14,
     "metadata": {},
     "output_type": "execute_result"
    }
   ],
   "source": [
    "class Bicicleta(_cadencia: Int, _marcha: Int, _velocidad: Int){\n",
    "    val cadencia: Int = _cadencia\n",
    "    val marcha: Int = _marcha\n",
    "    val velocidad: Int = _velocidad\n",
    "}"
   ]
  },
  {
   "cell_type": "code",
   "execution_count": 15,
   "metadata": {},
   "outputs": [
    {
     "data": {
      "text/plain": [
       "b2: Bicicleta = Bicicleta@5aa0b706\n"
      ]
     },
     "execution_count": 15,
     "metadata": {},
     "output_type": "execute_result"
    }
   ],
   "source": [
    "//instanciar\n",
    "val b2 = new Bicicleta(1,10, 100)"
   ]
  },
  {
   "cell_type": "code",
   "execution_count": 16,
   "metadata": {},
   "outputs": [
    {
     "data": {
      "text/plain": [
       "res4: Int = 1\n"
      ]
     },
     "execution_count": 16,
     "metadata": {},
     "output_type": "execute_result"
    }
   ],
   "source": [
    "b2.cadencia"
   ]
  },
  {
   "cell_type": "code",
   "execution_count": 17,
   "metadata": {},
   "outputs": [
    {
     "ename": "<console>",
     "evalue": "26: error: reassignment to val",
     "output_type": "error",
     "traceback": [
      "<console>:26: error: reassignment to val",
      "       b2.cadencia = 20 // it is not possible to change the values",
      "                   ^",
      ""
     ]
    }
   ],
   "source": [
    "b2.cadencia = 20 // it is not possible to change the values"
   ]
  },
  {
   "cell_type": "markdown",
   "metadata": {},
   "source": [
    "## **Constructors**\n",
    "\n",
    "In order to avoid to create the three lines before the definition of class, we can create a constructor to define the inputs."
   ]
  },
  {
   "cell_type": "code",
   "execution_count": 1,
   "metadata": {},
   "outputs": [
    {
     "data": {
      "text/plain": [
       "Intitializing Scala interpreter ..."
      ]
     },
     "metadata": {},
     "output_type": "display_data"
    },
    {
     "data": {
      "text/plain": [
       "Spark Web UI available at http://192.168.0.15:4041\n",
       "SparkContext available as 'sc' (version = 2.4.4, master = local[*], app id = local-1586598791816)\n",
       "SparkSession available as 'spark'\n"
      ]
     },
     "metadata": {},
     "output_type": "display_data"
    },
    {
     "data": {
      "text/plain": [
       "defined class Bicicleta\n"
      ]
     },
     "execution_count": 1,
     "metadata": {},
     "output_type": "execute_result"
    }
   ],
   "source": [
    "class Bicicleta(val cadencia: Int, val velocidad: Int, val marcha: Int)"
   ]
  },
  {
   "cell_type": "code",
   "execution_count": 2,
   "metadata": {},
   "outputs": [
    {
     "data": {
      "text/plain": [
       "b3: Bicicleta = Bicicleta@6c7500ba\n"
      ]
     },
     "execution_count": 2,
     "metadata": {},
     "output_type": "execute_result"
    }
   ],
   "source": [
    "val b3 = new Bicicleta(2, 20, 200)"
   ]
  },
  {
   "cell_type": "code",
   "execution_count": 11,
   "metadata": {},
   "outputs": [
    {
     "name": "stdout",
     "output_type": "stream",
     "text": [
      "20\n",
      "2\n",
      "200\n"
     ]
    }
   ],
   "source": [
    "println(b3.velocidad)\n",
    "println(b3.cadencia)\n",
    "println(b3.marcha)"
   ]
  },
  {
   "cell_type": "markdown",
   "metadata": {},
   "source": [
    "#### **It is posible to declare additional constructos using def this:** "
   ]
  },
  {
   "cell_type": "code",
   "execution_count": 21,
   "metadata": {},
   "outputs": [
    {
     "data": {
      "text/plain": [
       "defined class Bicicleta\n"
      ]
     },
     "execution_count": 21,
     "metadata": {},
     "output_type": "execute_result"
    }
   ],
   "source": [
    "class Bicicleta(val cadencia: Int, val marcha: Int, val velocidad: Int) {\n",
    "    def this(_cadencia: Int, _marcha: Int) =\n",
    "      this(_cadencia, _marcha, 500)\n",
    "  }"
   ]
  },
  {
   "cell_type": "code",
   "execution_count": 22,
   "metadata": {},
   "outputs": [
    {
     "data": {
      "text/plain": [
       "b4: Bicicleta = Bicicleta@57fc5517\n"
      ]
     },
     "execution_count": 22,
     "metadata": {},
     "output_type": "execute_result"
    }
   ],
   "source": [
    "val b4 = new Bicicleta(5, 50)"
   ]
  },
  {
   "cell_type": "code",
   "execution_count": 24,
   "metadata": {},
   "outputs": [
    {
     "name": "stdout",
     "output_type": "stream",
     "text": [
      "500\n",
      "5\n",
      "50\n"
     ]
    }
   ],
   "source": [
    "println(b4.velocidad)\n",
    "println(b4.cadencia)\n",
    "println(b4.marcha)"
   ]
  },
  {
   "cell_type": "markdown",
   "metadata": {},
   "source": [
    "#### **Include methods**"
   ]
  },
  {
   "cell_type": "code",
   "execution_count": 27,
   "metadata": {},
   "outputs": [
    {
     "data": {
      "text/plain": [
       "defined class Bicicleta\n"
      ]
     },
     "execution_count": 27,
     "metadata": {},
     "output_type": "execute_result"
    }
   ],
   "source": [
    "class Bicicleta(val cadencia: Int, val marcha: Int, val velocidad: Int) {\n",
    "    def this(_cadencia: Int, _marcha: Int) =\n",
    "      this(_cadencia, _marcha, 500)\n",
    "    \n",
    "    def frenar(x: Int): Bicicleta ={\n",
    "        new Bicicleta(cadencia, marcha, velocidad - x )\n",
    "    }\n",
    "  }"
   ]
  },
  {
   "cell_type": "code",
   "execution_count": 28,
   "metadata": {},
   "outputs": [
    {
     "data": {
      "text/plain": [
       "b5: Bicicleta = Bicicleta@7654e5da\n"
      ]
     },
     "execution_count": 28,
     "metadata": {},
     "output_type": "execute_result"
    }
   ],
   "source": [
    "val b5 = new Bicicleta(1, 2, 3)"
   ]
  },
  {
   "cell_type": "code",
   "execution_count": 29,
   "metadata": {},
   "outputs": [
    {
     "name": "stdout",
     "output_type": "stream",
     "text": [
      "3\n",
      "1\n",
      "2\n"
     ]
    }
   ],
   "source": [
    "println(b5.velocidad)\n",
    "println(b5.cadencia)\n",
    "println(b5.marcha)"
   ]
  },
  {
   "cell_type": "code",
   "execution_count": 30,
   "metadata": {},
   "outputs": [
    {
     "data": {
      "text/plain": [
       "b5alt: Bicicleta = Bicicleta@34e7c5bc\n"
      ]
     },
     "execution_count": 30,
     "metadata": {},
     "output_type": "execute_result"
    }
   ],
   "source": [
    "val b5alt = b5.frenar(2)"
   ]
  },
  {
   "cell_type": "code",
   "execution_count": 31,
   "metadata": {},
   "outputs": [
    {
     "data": {
      "text/plain": [
       "res16: Int = 3\n"
      ]
     },
     "execution_count": 31,
     "metadata": {},
     "output_type": "execute_result"
    }
   ],
   "source": [
    "b5.velocidad"
   ]
  },
  {
   "cell_type": "code",
   "execution_count": 32,
   "metadata": {},
   "outputs": [
    {
     "data": {
      "text/plain": [
       "res17: Int = 1\n"
      ]
     },
     "execution_count": 32,
     "metadata": {},
     "output_type": "execute_result"
    }
   ],
   "source": [
    "b5alt.velocidad"
   ]
  },
  {
   "cell_type": "markdown",
   "metadata": {},
   "source": [
    "## **Singleton object** "
   ]
  },
  {
   "cell_type": "markdown",
   "metadata": {},
   "source": [
    "A **Singleton object** is an object which defines a single object of a class. A singleton object provides an entry point to your program execution. If you do not create a singleton object in your program, then your code compile successfully but does not give output."
   ]
  },
  {
   "cell_type": "code",
   "execution_count": 33,
   "metadata": {},
   "outputs": [
    {
     "data": {
      "text/plain": [
       "defined object FabricaDeBicicletas\n"
      ]
     },
     "execution_count": 33,
     "metadata": {},
     "output_type": "execute_result"
    }
   ],
   "source": [
    "object FabricaDeBicicletas{\n",
    "    def crear(cadencia: Int, marcha: Int, velocidad: Int): Bicicleta = {\n",
    "        new Bicicleta(cadencia, marcha, velocidad)\n",
    "    }\n",
    "}"
   ]
  },
  {
   "cell_type": "code",
   "execution_count": 37,
   "metadata": {},
   "outputs": [
    {
     "data": {
      "text/plain": [
       "b6: Bicicleta = Bicicleta@67db448e\n"
      ]
     },
     "execution_count": 37,
     "metadata": {},
     "output_type": "execute_result"
    }
   ],
   "source": [
    "val b6 = FabricaDeBicicletas.crear(4, 5, 6)"
   ]
  },
  {
   "cell_type": "code",
   "execution_count": 38,
   "metadata": {},
   "outputs": [
    {
     "name": "stdout",
     "output_type": "stream",
     "text": [
      "6\n",
      "4\n",
      "5\n"
     ]
    }
   ],
   "source": [
    "println(b6.velocidad)\n",
    "println(b6.cadencia)\n",
    "println(b6.marcha)"
   ]
  },
  {
   "cell_type": "markdown",
   "metadata": {},
   "source": [
    "### **Combine all**"
   ]
  },
  {
   "cell_type": "code",
   "execution_count": 54,
   "metadata": {},
   "outputs": [
    {
     "data": {
      "text/plain": [
       "defined object Bicicleta\n",
       "defined class Bicicleta\n"
      ]
     },
     "execution_count": 54,
     "metadata": {},
     "output_type": "execute_result"
    }
   ],
   "source": [
    "object Bicicleta{\n",
    "    def crear(cadencia: Int, marcha: Int, velocidad: Int): Bicicleta = {\n",
    "        new Bicicleta(cadencia, marcha, velocidad)\n",
    "    }\n",
    "}\n",
    "\n",
    "class Bicicleta(val cadencia: Int, val marcha: Int, val velocidad: Int) {\n",
    "    def this(_cadencia: Int, _marcha: Int) =\n",
    "      this(_cadencia, _marcha, 500)\n",
    "    \n",
    "    def frenar(x: Int): Bicicleta ={\n",
    "        new Bicicleta(cadencia, marcha, velocidad - x )\n",
    "    }\n",
    "  }"
   ]
  },
  {
   "cell_type": "code",
   "execution_count": 46,
   "metadata": {},
   "outputs": [
    {
     "ename": "<console>",
     "evalue": "2: error: illegal start of simple pattern",
     "output_type": "error",
     "traceback": [
      "<console>:2: error: illegal start of simple pattern",
      "val b7 Bicicleta.crear(8, 9, 10)",
      "                ^",
      ""
     ]
    }
   ],
   "source": [
    "val b7 Bicicleta.crear(8, 9, 10)"
   ]
  },
  {
   "cell_type": "code",
   "execution_count": 43,
   "metadata": {},
   "outputs": [
    {
     "ename": "<console>",
     "evalue": "28: error: not found: value b7",
     "output_type": "error",
     "traceback": [
      "<console>:28: error: not found: value b7",
      "       println(b7.marcha)",
      "               ^",
      "<console>:24: error: not found: value b7",
      "       println(b7.velocidad)",
      "               ^",
      "<console>:25: error: not found: value b7",
      "       println(b7.cadencia)",
      "               ^",
      ""
     ]
    }
   ],
   "source": [
    "println(b7.velocidad)\n",
    "println(b7.cadencia)\n",
    "println(b7.marcha)"
   ]
  },
  {
   "cell_type": "markdown",
   "metadata": {},
   "source": [
    "## **Heritage**\n",
    "New variable: alturaSillin"
   ]
  },
  {
   "cell_type": "code",
   "execution_count": 55,
   "metadata": {},
   "outputs": [
    {
     "data": {
      "text/plain": [
       "defined class BiciDeMontana\n"
      ]
     },
     "execution_count": 55,
     "metadata": {},
     "output_type": "execute_result"
    }
   ],
   "source": [
    "class BiciDeMontana(cadencia: Int, marcha: Int, velocidad: Int, val alturaSillin: Int)\n",
    "    extends Bicicleta(cadencia, marcha, velocidad)"
   ]
  },
  {
   "cell_type": "code",
   "execution_count": 56,
   "metadata": {},
   "outputs": [
    {
     "data": {
      "text/plain": [
       "bm1: BiciDeMontana = BiciDeMontana@6f9056b9\n"
      ]
     },
     "execution_count": 56,
     "metadata": {},
     "output_type": "execute_result"
    }
   ],
   "source": [
    "val bm1 = new BiciDeMontana(1, 2, 3, 4)"
   ]
  },
  {
   "cell_type": "code",
   "execution_count": 57,
   "metadata": {},
   "outputs": [
    {
     "name": "stdout",
     "output_type": "stream",
     "text": [
      "3\n",
      "1\n",
      "2\n",
      "4\n"
     ]
    }
   ],
   "source": [
    "println(bm1.velocidad)\n",
    "println(bm1.cadencia)\n",
    "println(bm1.marcha)\n",
    "println(bm1.alturaSillin)"
   ]
  },
  {
   "cell_type": "code",
   "execution_count": 62,
   "metadata": {},
   "outputs": [
    {
     "data": {
      "text/plain": [
       "b8: Bicicleta = BiciDeMontana@6f9056b9\n"
      ]
     },
     "execution_count": 62,
     "metadata": {},
     "output_type": "execute_result"
    }
   ],
   "source": [
    "val b8: Bicicleta = bm1"
   ]
  },
  {
   "cell_type": "code",
   "execution_count": 64,
   "metadata": {},
   "outputs": [
    {
     "ename": "<console>",
     "evalue": "29: error: value alturaSillin is not a member of Bicicleta",
     "output_type": "error",
     "traceback": [
      "<console>:29: error: value alturaSillin is not a member of Bicicleta",
      "       println(b8.alturaSillin) // we should have an error here :( because is not",
      "                  ^",
      ""
     ]
    }
   ],
   "source": [
    "println(b8.cadencia)\n",
    "println(b8.alturaSillin) // we should have an error here, \n",
    "                        // because is not BiciDeMontana anymore"
   ]
  },
  {
   "cell_type": "markdown",
   "metadata": {},
   "source": [
    "## **abstract classes**\n"
   ]
  },
  {
   "cell_type": "code",
   "execution_count": 66,
   "metadata": {},
   "outputs": [
    {
     "data": {
      "text/plain": [
       "defined class BiciDeCarretera\n"
      ]
     },
     "execution_count": 66,
     "metadata": {},
     "output_type": "execute_result"
    }
   ],
   "source": [
    "abstract class BiciDeCarretera(cadencia: Int, marcha: Int, velocidad: Int) \n",
    "extends Bicicleta(cadencia, marcha, velocidad){\n",
    "    val alturaSillin: Int\n",
    "}"
   ]
  },
  {
   "cell_type": "code",
   "execution_count": 71,
   "metadata": {},
   "outputs": [
    {
     "data": {
      "text/plain": [
       "bc: BiciDeCarretera = $anon$1@95df8d6\n"
      ]
     },
     "execution_count": 71,
     "metadata": {},
     "output_type": "execute_result"
    }
   ],
   "source": [
    "val bc = new BiciDeCarretera(1, 2, 3){\n",
    "    val alturaSillin: Int = 100\n",
    "}"
   ]
  },
  {
   "cell_type": "markdown",
   "metadata": {},
   "source": [
    "## **trait**"
   ]
  },
  {
   "cell_type": "code",
   "execution_count": 73,
   "metadata": {},
   "outputs": [
    {
     "data": {
      "text/plain": [
       "defined trait Motor\n"
      ]
     },
     "execution_count": 73,
     "metadata": {},
     "output_type": "execute_result"
    }
   ],
   "source": [
    "trait Motor{\n",
    "    val torque: Int = 100\n",
    "    val cadena: Int\n",
    "}"
   ]
  },
  {
   "cell_type": "code",
   "execution_count": 77,
   "metadata": {},
   "outputs": [
    {
     "data": {
      "text/plain": [
       "defined class Motocicleta\n"
      ]
     },
     "execution_count": 77,
     "metadata": {},
     "output_type": "execute_result"
    }
   ],
   "source": [
    "// this. _ before the name of the variable indicates constructor\n",
    "class Motocicleta(cadencia: Int, marcha: Int, velocidad: Int, _cadena: Int) \n",
    "extends Bicicleta(cadencia, marcha, velocidad)\n",
    "with Motor{\n",
    "    val cadena: Int = _cadena\n",
    "}"
   ]
  },
  {
   "cell_type": "markdown",
   "metadata": {},
   "source": [
    "similar to ..."
   ]
  },
  {
   "cell_type": "code",
   "execution_count": 81,
   "metadata": {},
   "outputs": [
    {
     "data": {
      "text/plain": [
       "defined class Motocicleta\n"
      ]
     },
     "execution_count": 81,
     "metadata": {},
     "output_type": "execute_result"
    }
   ],
   "source": [
    "// this. _ before the name of the variable indicates constructor\n",
    "class Motocicleta(cadencia: Int, marcha: Int, velocidad: Int, val cadena: Int) \n",
    "extends Bicicleta(cadencia, marcha, velocidad)\n",
    "with Motor"
   ]
  },
  {
   "cell_type": "code",
   "execution_count": 82,
   "metadata": {},
   "outputs": [
    {
     "data": {
      "text/plain": [
       "mc: Motocicleta = Motocicleta@43e1126\n"
      ]
     },
     "execution_count": 82,
     "metadata": {},
     "output_type": "execute_result"
    }
   ],
   "source": [
    "val mc = new Motocicleta(1, 2, 3, 4)"
   ]
  },
  {
   "cell_type": "code",
   "execution_count": 84,
   "metadata": {},
   "outputs": [
    {
     "name": "stdout",
     "output_type": "stream",
     "text": [
      "1\n",
      "2\n",
      "3\n",
      "4\n",
      "100\n"
     ]
    }
   ],
   "source": [
    "println(mc.cadencia)\n",
    "println(mc.marcha)\n",
    "println(mc.velocidad)\n",
    "println(mc.cadena)\n",
    "println(mc.torque)"
   ]
  },
  {
   "cell_type": "code",
   "execution_count": null,
   "metadata": {},
   "outputs": [],
   "source": []
  }
 ],
 "metadata": {
  "kernelspec": {
   "display_name": "spylon-kernel",
   "language": "scala",
   "name": "spylon-kernel"
  },
  "language_info": {
   "codemirror_mode": "text/x-scala",
   "file_extension": ".scala",
   "help_links": [
    {
     "text": "MetaKernel Magics",
     "url": "https://metakernel.readthedocs.io/en/latest/source/README.html"
    }
   ],
   "mimetype": "text/x-scala",
   "name": "scala",
   "pygments_lexer": "scala",
   "version": "0.4.1"
  }
 },
 "nbformat": 4,
 "nbformat_minor": 4
}
