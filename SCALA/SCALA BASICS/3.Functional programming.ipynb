{
 "cells": [
  {
   "cell_type": "markdown",
   "metadata": {},
   "source": [
    "## **Functional Programming**\n",
    "\n",
    "\n",
    "**Pure function**\n",
    "\n",
    "For the same entry you receive the same outputs\n",
    "\n",
    "A pure function is a function that has the following properties:\n",
    "\n",
    "- Its return value is the same for the same arguments\n",
    "- Its evaluation has no side effects"
   ]
  },
  {
   "cell_type": "markdown",
   "metadata": {},
   "source": [
    "https://www.youtube.com/watch?v=gZikNtcMOsk"
   ]
  },
  {
   "cell_type": "code",
   "execution_count": 1,
   "metadata": {},
   "outputs": [
    {
     "data": {
      "text/plain": [
       "Intitializing Scala interpreter ..."
      ]
     },
     "metadata": {},
     "output_type": "display_data"
    },
    {
     "data": {
      "text/plain": [
       "Spark Web UI available at http://192.168.0.15:4043\n",
       "SparkContext available as 'sc' (version = 2.4.4, master = local[*], app id = local-1586609026203)\n",
       "SparkSession available as 'spark'\n"
      ]
     },
     "metadata": {},
     "output_type": "display_data"
    },
    {
     "data": {
      "text/plain": [
       "pure: (x: Int, y: Int)Int\n"
      ]
     },
     "execution_count": 1,
     "metadata": {},
     "output_type": "execute_result"
    }
   ],
   "source": [
    "def pure(x: Int, y: Int): Int = x + y"
   ]
  },
  {
   "cell_type": "code",
   "execution_count": 3,
   "metadata": {},
   "outputs": [
    {
     "name": "stdout",
     "output_type": "stream",
     "text": [
      "3\n",
      "3\n"
     ]
    }
   ],
   "source": [
    "println(pure(1, 2))\n",
    "println(pure(1, 2))"
   ]
  },
  {
   "cell_type": "markdown",
   "metadata": {},
   "source": [
    "### Impure function\n",
    "\n",
    "For the same entry you receive different outputs"
   ]
  },
  {
   "cell_type": "code",
   "execution_count": 4,
   "metadata": {},
   "outputs": [
    {
     "data": {
      "text/plain": [
       "acc: Int = 0\n",
       "impure: (x: Int, y: Int)Int\n"
      ]
     },
     "execution_count": 4,
     "metadata": {},
     "output_type": "execute_result"
    }
   ],
   "source": [
    "var acc: Int = 0\n",
    "def impure(x: Int, y: Int): Int = {\n",
    "    acc += 1\n",
    "    x + y + acc\n",
    "}"
   ]
  },
  {
   "cell_type": "code",
   "execution_count": 5,
   "metadata": {},
   "outputs": [
    {
     "name": "stdout",
     "output_type": "stream",
     "text": [
      "4\n",
      "5\n"
     ]
    }
   ],
   "source": [
    "println(impure(1, 2))\n",
    "println(impure(1, 2))"
   ]
  },
  {
   "cell_type": "markdown",
   "metadata": {},
   "source": [
    "## **Inmutability**"
   ]
  },
  {
   "cell_type": "code",
   "execution_count": 7,
   "metadata": {},
   "outputs": [
    {
     "ename": "<console>",
     "evalue": "25: error: reassignment to val",
     "output_type": "error",
     "traceback": [
      "<console>:25: error: reassignment to val",
      "       x = 2",
      "         ^",
      ""
     ]
    }
   ],
   "source": [
    "val x: Int = 0 // error\n",
    "x = 2"
   ]
  },
  {
   "cell_type": "markdown",
   "metadata": {},
   "source": [
    "Read: **Why Functional Programming Matters? (John Hughes)**\n",
    "\n",
    "\"We conclude that since **modularity** is the key to successful programming, functional programming offers important advantages for software development.\""
   ]
  },
  {
   "cell_type": "markdown",
   "metadata": {},
   "source": [
    "## **Algebraic Data Types**\n",
    "- Make a data type to work with int lists: a list can be empty or not (it has a head and a tail)\n",
    "- sealed trait: define the only possible cases"
   ]
  },
  {
   "cell_type": "code",
   "execution_count": 8,
   "metadata": {},
   "outputs": [
    {
     "data": {
      "text/plain": [
       "defined trait IList\n",
       "defined class End\n",
       "defined class Cons\n"
      ]
     },
     "execution_count": 8,
     "metadata": {},
     "output_type": "execute_result"
    }
   ],
   "source": [
    "sealed trait IList\n",
    "class End() extends IList\n",
    "class Cons(head: Int, tail: IList) extends IList"
   ]
  },
  {
   "cell_type": "code",
   "execution_count": 9,
   "metadata": {},
   "outputs": [
    {
     "data": {
      "text/plain": [
       "defined trait IList\n",
       "defined class End\n",
       "defined class Cons\n"
      ]
     },
     "execution_count": 9,
     "metadata": {},
     "output_type": "execute_result"
    }
   ],
   "source": [
    "sealed trait IList {\n",
    "    def prepend(h: Int): IList = new Cons(h, this)\n",
    "}\n",
    "class End() extends IList\n",
    "class Cons(head: Int, tail: IList) extends IList"
   ]
  },
  {
   "cell_type": "markdown",
   "metadata": {},
   "source": [
    "the results are pointers"
   ]
  },
  {
   "cell_type": "code",
   "execution_count": 10,
   "metadata": {},
   "outputs": [
    {
     "data": {
      "text/plain": [
       "xs: IList = Cons@19076c2f\n",
       "res3: IList = Cons@c1baac4\n"
      ]
     },
     "execution_count": 10,
     "metadata": {},
     "output_type": "execute_result"
    }
   ],
   "source": [
    "val xs: IList = new Cons(1, new Cons(2, new End())) // IList(1, 2)\n",
    "xs.prepend(0) // IList(0, 1, 2)"
   ]
  },
  {
   "cell_type": "markdown",
   "metadata": {},
   "source": [
    "##**Case classes**\n",
    "\n",
    "They provide common utilities automatically: shorter constructor, toString method, copy method, etc."
   ]
  },
  {
   "cell_type": "code",
   "execution_count": 11,
   "metadata": {},
   "outputs": [
    {
     "data": {
      "text/plain": [
       "defined class Bicicleta\n"
      ]
     },
     "execution_count": 11,
     "metadata": {},
     "output_type": "execute_result"
    }
   ],
   "source": [
    "case class Bicicleta(cadencia: Int, marcha: Int, velocidad: Int)"
   ]
  },
  {
   "cell_type": "code",
   "execution_count": 13,
   "metadata": {},
   "outputs": [
    {
     "name": "stdout",
     "output_type": "stream",
     "text": [
      "1\n",
      "3\n"
     ]
    },
    {
     "data": {
      "text/plain": [
       "b: Bicicleta = Bicicleta(1,2,3)\n",
       "res5: Bicicleta = Bicicleta(1,2,4)\n"
      ]
     },
     "execution_count": 13,
     "metadata": {},
     "output_type": "execute_result"
    }
   ],
   "source": [
    "// instead of new Bicicleta(1, 2, 3) we can put \n",
    "val b = Bicicleta(1, 2, 3)\n",
    "println(b.cadencia)\n",
    "println(b.velocidad)\n",
    "b.copy(velocidad = 4)"
   ]
  },
  {
   "cell_type": "markdown",
   "metadata": {},
   "source": [
    "* We can use it to make list creation simpler and to enable reading instance contents"
   ]
  },
  {
   "cell_type": "code",
   "execution_count": 16,
   "metadata": {},
   "outputs": [
    {
     "data": {
      "text/plain": [
       "defined trait IList\n",
       "defined class End\n",
       "defined class Cons\n"
      ]
     },
     "execution_count": 16,
     "metadata": {},
     "output_type": "execute_result"
    }
   ],
   "source": [
    "sealed trait IList {\n",
    "    def prepend(h: Int): IList = new Cons(h, this)\n",
    "}\n",
    "case class End() extends IList\n",
    "case class Cons(head: Int, tail: IList) extends IList"
   ]
  },
  {
   "cell_type": "code",
   "execution_count": 18,
   "metadata": {},
   "outputs": [
    {
     "data": {
      "text/plain": [
       "xs: IList = Cons(1,Cons(2,End()))\n",
       "res8: IList = Cons(0,Cons(1,Cons(2,End())))\n"
      ]
     },
     "execution_count": 18,
     "metadata": {},
     "output_type": "execute_result"
    }
   ],
   "source": [
    "val xs: IList = Cons(1, Cons(2, End()))\n",
    "xs.prepend(0)"
   ]
  },
  {
   "cell_type": "markdown",
   "metadata": {},
   "source": [
    "## Pattern Matching\n",
    "We can use this technique to compare a value against a sequence of patterns"
   ]
  },
  {
   "cell_type": "code",
   "execution_count": 19,
   "metadata": {},
   "outputs": [
    {
     "data": {
      "text/plain": [
       "myPm: (x: Any)Int\n"
      ]
     },
     "execution_count": 19,
     "metadata": {},
     "output_type": "execute_result"
    }
   ],
   "source": [
    "//switch of java\n",
    "def myPm(x: Any): Int = x match {\n",
    "    case i: Int => i\n",
    "    case s: String => s.length\n",
    "    case _ => -1\n",
    "}"
   ]
  },
  {
   "cell_type": "code",
   "execution_count": 23,
   "metadata": {},
   "outputs": [
    {
     "name": "stdout",
     "output_type": "stream",
     "text": [
      "5\n",
      "2\n",
      "-1\n"
     ]
    }
   ],
   "source": [
    "println(myPm(5))\n",
    "println((myPm(\"hi\")))\n",
    "println((myPm(3.0)))"
   ]
  },
  {
   "cell_type": "markdown",
   "metadata": {},
   "source": [
    "Pattern matching turns out to be really useful in combination with case classes (sum method)"
   ]
  },
  {
   "cell_type": "code",
   "execution_count": 24,
   "metadata": {},
   "outputs": [
    {
     "data": {
      "text/plain": [
       "defined trait IList\n",
       "defined class End\n",
       "defined class Cons\n"
      ]
     },
     "execution_count": 24,
     "metadata": {},
     "output_type": "execute_result"
    }
   ],
   "source": [
    "sealed trait IList {\n",
    "    def prepend(h: Int): IList = new Cons(h, this)\n",
    "    def sum: Int = this match {\n",
    "        case End() => 0 // defined before, for this reason you can not eliminate this\n",
    "        case Cons(h, t) => h + t.sum //recursive\n",
    "    }\n",
    "}\n",
    "case class End() extends IList\n",
    "case class Cons(head: Int, tail: IList) extends IList"
   ]
  },
  {
   "cell_type": "code",
   "execution_count": 25,
   "metadata": {},
   "outputs": [
    {
     "data": {
      "text/plain": [
       "res11: Int = 6\n"
      ]
     },
     "execution_count": 25,
     "metadata": {},
     "output_type": "execute_result"
    }
   ],
   "source": [
    "Cons(1, Cons(2, Cons(3, End()))).sum"
   ]
  },
  {
   "cell_type": "markdown",
   "metadata": {},
   "source": [
    "## **Lambda Expressions** \n",
    "* So far we've been working with methods (incr example)"
   ]
  },
  {
   "cell_type": "code",
   "execution_count": 26,
   "metadata": {},
   "outputs": [
    {
     "data": {
      "text/plain": [
       "incr: (x: Int)Int\n",
       "res12: Int = 1\n"
      ]
     },
     "execution_count": 26,
     "metadata": {},
     "output_type": "execute_result"
    }
   ],
   "source": [
    "def incr(x: Int): Int = x + 1\n",
    "incr(0)"
   ]
  },
  {
   "cell_type": "markdown",
   "metadata": {},
   "source": [
    "But functions are first-class citizens (ugly lambda expressions)"
   ]
  },
  {
   "cell_type": "code",
   "execution_count": 27,
   "metadata": {},
   "outputs": [
    {
     "data": {
      "text/plain": [
       "x: Int = 0\n",
       "s: String = hola\n",
       "f: Int => Int = <function1>\n"
      ]
     },
     "execution_count": 27,
     "metadata": {},
     "output_type": "execute_result"
    }
   ],
   "source": [
    "val x: Int =0\n",
    "val s: String = \"hola\"\n",
    "val f: Function1[Int, Int] = new Function1[Int, Int] {\n",
    "    def apply(x: Int): Int = x + 1\n",
    "}"
   ]
  },
  {
   "cell_type": "code",
   "execution_count": 28,
   "metadata": {},
   "outputs": [
    {
     "data": {
      "text/plain": [
       "res13: Int = 1\n"
      ]
     },
     "execution_count": 28,
     "metadata": {},
     "output_type": "execute_result"
    }
   ],
   "source": [
    "f.apply(0)"
   ]
  },
  {
   "cell_type": "markdown",
   "metadata": {},
   "source": [
    "We provide a new method, which mapss every element in the list"
   ]
  },
  {
   "cell_type": "code",
   "execution_count": 29,
   "metadata": {},
   "outputs": [
    {
     "data": {
      "text/plain": [
       "defined trait IList\n",
       "defined class End\n",
       "defined class Cons\n"
      ]
     },
     "execution_count": 29,
     "metadata": {},
     "output_type": "execute_result"
    }
   ],
   "source": [
    "sealed trait IList {\n",
    "    def prepend(h: Int): IList = new Cons(h, this)\n",
    "    def sum: Int = this match {\n",
    "        case End() => 0\n",
    "        case Cons(h, t) => h + t.sum\n",
    "    }\n",
    "    def map(f: Function1[Int, Int]): IList = this match {\n",
    "        case End() => End()\n",
    "        case Cons(h, t) => Cons(f(h), t.map(f))\n",
    "    }\n",
    "}\n",
    "case class End() extends IList\n",
    "case class Cons(head: Int, tail: IList) extends IList"
   ]
  },
  {
   "cell_type": "code",
   "execution_count": 30,
   "metadata": {},
   "outputs": [
    {
     "data": {
      "text/plain": [
       "xs: IList = Cons(1,Cons(2,Cons(3,End())))\n",
       "res14: IList = Cons(2,Cons(3,Cons(4,End())))\n"
      ]
     },
     "execution_count": 30,
     "metadata": {},
     "output_type": "execute_result"
    }
   ],
   "source": [
    "val xs: IList = Cons(1, Cons(2, Cons(3, End())))\n",
    "xs.map(f)"
   ]
  },
  {
   "cell_type": "markdown",
   "metadata": {},
   "source": [
    "## **More**\n",
    "\n",
    "An operator is just a method (concatenate & prepend)"
   ]
  },
  {
   "cell_type": "code",
   "execution_count": 36,
   "metadata": {},
   "outputs": [
    {
     "data": {
      "text/plain": [
       "defined trait IList\n",
       "defined class End\n",
       "defined class Cons\n"
      ]
     },
     "execution_count": 36,
     "metadata": {},
     "output_type": "execute_result"
    }
   ],
   "source": [
    "sealed trait IList {\n",
    "    def ::(h: Int): IList = new Cons(h, this)\n",
    "    def sum: Int = this match {\n",
    "        case End() => 0\n",
    "        case Cons(h, t) => h + t.sum\n",
    "    }\n",
    "    def map(f: Function1[Int, Int]): IList = this match {\n",
    "        case End() => End()\n",
    "        case Cons(h, t) => Cons(f(h), t.map(f))\n",
    "    }\n",
    "    def ++(other: IList): IList = this match {\n",
    "        case End() => other\n",
    "        case Cons(h, t) => Cons(h, t ++ other)\n",
    "    }\n",
    "}\n",
    "case class End() extends IList\n",
    "case class Cons(head: Int, tail: IList) extends IList"
   ]
  },
  {
   "cell_type": "code",
   "execution_count": 38,
   "metadata": {},
   "outputs": [
    {
     "name": "stdout",
     "output_type": "stream",
     "text": [
      "Cons(0,Cons(1,Cons(2,End())))\n",
      "Cons(0,Cons(1,Cons(2,End())))\n"
     ]
    },
    {
     "data": {
      "text/plain": [
       "xs: IList = Cons(1,Cons(2,End()))\n"
      ]
     },
     "execution_count": 38,
     "metadata": {},
     "output_type": "execute_result"
    }
   ],
   "source": [
    "val xs: IList = Cons(1, Cons(2, End()))\n",
    "xs ++ xs\n",
    "println(xs.::(0))\n",
    "println(0 :: xs)"
   ]
  },
  {
   "cell_type": "markdown",
   "metadata": {},
   "source": [
    "It's possible to declare default arguments for parameters"
   ]
  },
  {
   "cell_type": "code",
   "execution_count": 39,
   "metadata": {},
   "outputs": [
    {
     "data": {
      "text/plain": [
       "defined trait IList\n",
       "defined class End\n",
       "defined class Cons\n"
      ]
     },
     "execution_count": 39,
     "metadata": {},
     "output_type": "execute_result"
    }
   ],
   "source": [
    "sealed trait IList {\n",
    "    def ::(h: Int): IList = new Cons(h, this)\n",
    "    def sum: Int = this match {\n",
    "        case End() => 0\n",
    "        case Cons(h, t) => h + t.sum\n",
    "    }\n",
    "    def map(f: Function1[Int, Int]): IList = this match {\n",
    "        case End() => End()\n",
    "        case Cons(h, t) => Cons(f(h), t.map(f))\n",
    "    }\n",
    "    def ++(other: IList): IList = this match {\n",
    "        case End() => other\n",
    "        case Cons(h, t) => Cons(h, t ++ other)\n",
    "    }\n",
    "}\n",
    "case class End() extends IList\n",
    "case class Cons(head: Int, tail: IList = End()) extends IList"
   ]
  },
  {
   "cell_type": "code",
   "execution_count": 40,
   "metadata": {},
   "outputs": [
    {
     "data": {
      "text/plain": [
       "res17: Cons = Cons(1,End())\n"
      ]
     },
     "execution_count": 40,
     "metadata": {},
     "output_type": "execute_result"
    }
   ],
   "source": [
    "Cons(1, End())\n",
    "Cons(1)"
   ]
  },
  {
   "cell_type": "markdown",
   "metadata": {},
   "source": [
    "Variadic methods are great for certain situations like creating lists"
   ]
  },
  {
   "cell_type": "code",
   "execution_count": 56,
   "metadata": {},
   "outputs": [
    {
     "data": {
      "text/plain": [
       "defined object IList\n",
       "warning: previously defined trait IList is not a companion to object IList.\n",
       "Companions must be defined together; you may wish to use :paste mode for this.\n"
      ]
     },
     "execution_count": 56,
     "metadata": {},
     "output_type": "execute_result"
    }
   ],
   "source": [
    "object IList{\n",
    "    def apply(xs: Int*): IList =\n",
    "      if (xs.isEmpty) End() else Cons(xs.head, apply(xs.tail:_*))\n",
    "}"
   ]
  },
  {
   "cell_type": "code",
   "execution_count": 57,
   "metadata": {},
   "outputs": [
    {
     "data": {
      "text/plain": [
       "res26: IList = Cons(1,Cons(2,Cons(3,End())))\n"
      ]
     },
     "execution_count": 57,
     "metadata": {},
     "output_type": "execute_result"
    }
   ],
   "source": [
    "IList.apply(1, 2, 3)\n",
    "IList(1, 2, 3)"
   ]
  },
  {
   "cell_type": "markdown",
   "metadata": {},
   "source": [
    "Scala deploys syntax to simplify the creation of Lambda Expressions"
   ]
  },
  {
   "cell_type": "code",
   "execution_count": 58,
   "metadata": {},
   "outputs": [
    {
     "data": {
      "text/plain": [
       "incr: Int => Int = <function1>\n"
      ]
     },
     "execution_count": 58,
     "metadata": {},
     "output_type": "execute_result"
    }
   ],
   "source": [
    "val incr: Int => Int = (i: Int) => i + 1"
   ]
  },
  {
   "cell_type": "code",
   "execution_count": 59,
   "metadata": {},
   "outputs": [
    {
     "data": {
      "text/plain": [
       "res27: Int = 1\n"
      ]
     },
     "execution_count": 59,
     "metadata": {},
     "output_type": "execute_result"
    }
   ],
   "source": [
    "incr(0)"
   ]
  },
  {
   "cell_type": "code",
   "execution_count": 60,
   "metadata": {},
   "outputs": [
    {
     "data": {
      "text/plain": [
       "incr: Int => Int = <function1>\n"
      ]
     },
     "execution_count": 60,
     "metadata": {},
     "output_type": "execute_result"
    }
   ],
   "source": [
    "val incr: Int => Int = i => i + 1"
   ]
  },
  {
   "cell_type": "code",
   "execution_count": 61,
   "metadata": {},
   "outputs": [
    {
     "data": {
      "text/plain": [
       "incr: Int => Int = <function1>\n",
       "res28: Int = 1\n"
      ]
     },
     "execution_count": 61,
     "metadata": {},
     "output_type": "execute_result"
    }
   ],
   "source": [
    "val incr: Int => Int = _ + 1\n",
    "incr(0)"
   ]
  },
  {
   "cell_type": "code",
   "execution_count": 62,
   "metadata": {},
   "outputs": [
    {
     "data": {
      "text/plain": [
       "res29: IList = Cons(5,Cons(10,Cons(15,End())))\n"
      ]
     },
     "execution_count": 62,
     "metadata": {},
     "output_type": "execute_result"
    }
   ],
   "source": [
    "IList(1, 2, 3).map(_ + 1)\n",
    "IList(1, 2, 3).map(_ * 5)"
   ]
  },
  {
   "cell_type": "markdown",
   "metadata": {},
   "source": [
    "## More ADT examples\n",
    "Optional Int"
   ]
  },
  {
   "cell_type": "code",
   "execution_count": 63,
   "metadata": {},
   "outputs": [
    {
     "data": {
      "text/plain": [
       "defined trait IOption\n",
       "defined class INone\n",
       "defined class ISome\n"
      ]
     },
     "execution_count": 63,
     "metadata": {},
     "output_type": "execute_result"
    }
   ],
   "source": [
    "sealed trait IOption\n",
    "case class INone() extends IOption\n",
    "case class ISome(i: Int) extends IOption"
   ]
  },
  {
   "cell_type": "markdown",
   "metadata": {},
   "source": [
    "Either Error or Int"
   ]
  },
  {
   "cell_type": "code",
   "execution_count": null,
   "metadata": {},
   "outputs": [],
   "source": [
    "sealed trait IEither\n",
    "case class Left(err: Error) extends IEither\n",
    "case class Right(i: Int) extends IEither"
   ]
  },
  {
   "cell_type": "markdown",
   "metadata": {},
   "source": [
    "## Final result"
   ]
  },
  {
   "cell_type": "code",
   "execution_count": 64,
   "metadata": {},
   "outputs": [
    {
     "data": {
      "text/plain": [
       "defined trait IList\n",
       "defined class Cons\n",
       "defined class End\n",
       "defined object IList\n"
      ]
     },
     "execution_count": 64,
     "metadata": {},
     "output_type": "execute_result"
    }
   ],
   "source": [
    "// IList is an Algebraic Data Type, made of Cons and End\n",
    "sealed trait IList {\n",
    "    \n",
    "  // Operators are available\n",
    "  def ::(h: Int): IList = Cons(h, this)\n",
    "    \n",
    "  // Pattern matching is very handy to deal with ADTs\n",
    "  def sum: Int = this match {\n",
    "    case Cons(h, t) => h + t.sum\n",
    "    case End() => 0\n",
    "  }\n",
    "    \n",
    "  // Functions can be passed as parameters\n",
    "  // `map` is a higher order function\n",
    "  def map(f: Int => Int): IList = this match {\n",
    "    case Cons(h, t) => Cons(f(h), t.map(f))\n",
    "    case End() => End()\n",
    "  }\n",
    "    \n",
    "  def ++(other: IList): IList = this match {\n",
    "    case Cons(h, t) => Cons(h, t ++ other)\n",
    "    case End() => other\n",
    "  }\n",
    "}\n",
    "\n",
    "// Case classes mitigate common boilerplate\n",
    "// Default parameters could be helpful\n",
    "case class Cons(val head: Int, val tail: IList = End()) extends IList\n",
    "case class End() extends IList\n",
    "\n",
    "object IList {\n",
    "  // Variadic arguments are idoneous as a list creator\n",
    "  def apply(xs: Int*): IList = {\n",
    "    if (xs.isEmpty) End()\n",
    "    else Cons(xs.head, apply(xs.tail:_*)) \n",
    "  }\n",
    "}"
   ]
  },
  {
   "cell_type": "markdown",
   "metadata": {},
   "source": [
    "## Takeaways\n",
    "- Functional programming is programming with pure functions\n",
    "- Algebraic data types are encoded as a \"sum\" of case clases\n",
    "- Functions are treated as first-class citizens, which enables higher order functions\n",
    "- Syntactic sugar is convenient to dulcify expressions\n",
    "- Dotty has introduced many features towards the functional side\n",
    "- This is just the beginning: type classes, DSLs, generic programming, etc."
   ]
  },
  {
   "cell_type": "markdown",
   "metadata": {},
   "source": [
    "## **Aplauses**"
   ]
  },
  {
   "cell_type": "markdown",
   "metadata": {},
   "source": [
    "![Applause](misc/applause.gif)"
   ]
  },
  {
   "cell_type": "code",
   "execution_count": null,
   "metadata": {},
   "outputs": [],
   "source": []
  }
 ],
 "metadata": {
  "kernelspec": {
   "display_name": "spylon-kernel",
   "language": "scala",
   "name": "spylon-kernel"
  },
  "language_info": {
   "codemirror_mode": "text/x-scala",
   "file_extension": ".scala",
   "help_links": [
    {
     "text": "MetaKernel Magics",
     "url": "https://metakernel.readthedocs.io/en/latest/source/README.html"
    }
   ],
   "mimetype": "text/x-scala",
   "name": "scala",
   "pygments_lexer": "scala",
   "version": "0.4.1"
  }
 },
 "nbformat": 4,
 "nbformat_minor": 4
}
