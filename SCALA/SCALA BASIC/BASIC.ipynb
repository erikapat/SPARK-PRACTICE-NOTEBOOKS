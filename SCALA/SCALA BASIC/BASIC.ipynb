{
 "cells": [
  {
   "cell_type": "code",
   "execution_count": null,
   "metadata": {},
   "outputs": [],
   "source": [
    " "
   ]
  },
  {
   "cell_type": "markdown",
   "metadata": {},
   "source": [
    "## **SCALA BASIC COMMANDS**\n",
    "\n",
    "- Scala is the perfect choice if you want to explore functional programming without disregarding OOP\n",
    "- Scala runs on the JVM which provides a ton of libraries\n",
    "- Tutorial\n",
    "        https://www.youtube.com/watch?v=DzFt0YkZo8M"
   ]
  },
  {
   "cell_type": "markdown",
   "metadata": {},
   "source": [
    "Creates a variable of the correct type:"
   ]
  },
  {
   "cell_type": "code",
   "execution_count": 1,
   "metadata": {},
   "outputs": [
    {
     "data": {
      "text/plain": [
       "Intitializing Scala interpreter ..."
      ]
     },
     "metadata": {},
     "output_type": "display_data"
    },
    {
     "data": {
      "text/plain": [
       "Spark Web UI available at http://192.168.0.15:4040\n",
       "SparkContext available as 'sc' (version = 2.4.4, master = local[*], app id = local-1586623964779)\n",
       "SparkSession available as 'spark'\n"
      ]
     },
     "metadata": {},
     "output_type": "display_data"
    },
    {
     "data": {
      "text/plain": [
       "res0: Int = 17\n"
      ]
     },
     "execution_count": 1,
     "metadata": {},
     "output_type": "execute_result"
    }
   ],
   "source": [
    "10 + 3 * 5 / 2"
   ]
  },
  {
   "cell_type": "code",
   "execution_count": 2,
   "metadata": {},
   "outputs": [
    {
     "data": {
      "text/plain": [
       "res1: String = Your answer 17\n"
      ]
     },
     "execution_count": 2,
     "metadata": {},
     "output_type": "execute_result"
    }
   ],
   "source": [
    "// You can use that variable in the code that follows:\n",
    "\"Your answer \" + res0"
   ]
  },
  {
   "cell_type": "code",
   "execution_count": 3,
   "metadata": {},
   "outputs": [
    {
     "data": {
      "text/plain": [
       "myName: String = Derek\n"
      ]
     },
     "execution_count": 3,
     "metadata": {},
     "output_type": "execute_result"
    }
   ],
   "source": [
    "// Define your own variable:\n",
    "var myName = \"Derek\""
   ]
  },
  {
   "cell_type": "code",
   "execution_count": 4,
   "metadata": {},
   "outputs": [
    {
     "data": {
      "text/plain": [
       "myAge: Int = 40\n"
      ]
     },
     "execution_count": 4,
     "metadata": {},
     "output_type": "execute_result"
    }
   ],
   "source": [
    "// Define your own constant variable:\n",
    "val myAge = 40"
   ]
  },
  {
   "cell_type": "markdown",
   "metadata": {},
   "source": [
    " ## ---------- DATA TYPES ----------"
   ]
  },
  {
   "cell_type": "code",
   "execution_count": 5,
   "metadata": {},
   "outputs": [
    {
     "data": {
      "text/plain": [
       "lastName: String = Banas\n"
      ]
     },
     "execution_count": 5,
     "metadata": {},
     "output_type": "execute_result"
    }
   ],
   "source": [
    "// You can define the type:\n",
    "val lastName: String = \"Banas\""
   ]
  },
  {
   "cell_type": "code",
   "execution_count": 24,
   "metadata": {},
   "outputs": [
    {
     "data": {
      "text/plain": [
       "xmax: Int = 100\n",
       "ymax: Int = 100\n",
       "greeting: String = null\n",
       "message: String = null\n"
      ]
     },
     "execution_count": 24,
     "metadata": {},
     "output_type": "execute_result"
    }
   ],
   "source": [
    "val xmax, ymax = 100 // Sets xmax and ymax to 100 \n",
    "var greeting, message: String = null"
   ]
  },
  {
   "cell_type": "markdown",
   "metadata": {},
   "source": [
    "All datatypes in Scala are objects and they include\n",
    "(Get the max value with MaxValue)\n",
    "- Byte : -128 to 127\n",
    "- Boolean : true or false\n",
    "- Char : unsigned max value 65535\n",
    "- Short : -32768 to 32767\n",
    "- Int : -2147483648 to 2147483647\n",
    "- Long : -9223372036854775808 to 9223372036854775807\n",
    "- Float : -3.4028235E38 to 3.4028235E38\n",
    "- Double : -1.7976931348623157E308 to 1.7976931348623157E308\n",
    "\n",
    "In scala these types are classes. You can invoke methods on numbers, for example:\n",
    "\n",
    "- 1.toString() // Yields the string \"1\" or, more excitingly,\n",
    "- 1.to(10) // Yields Range(1, 2, 3, 4, 5, 6, 7, 8, 9, 10)\n",
    "- 99.44.toInt is 99, and \n",
    "- 99.toChar \n",
    "- \"99.44\".toDouble"
   ]
  },
  {
   "cell_type": "code",
   "execution_count": 27,
   "metadata": {},
   "outputs": [
    {
     "data": {
      "text/plain": [
       "res15: String = 1\n"
      ]
     },
     "execution_count": 27,
     "metadata": {},
     "output_type": "execute_result"
    }
   ],
   "source": [
    "1.toString() // Yields the string \"1\" or, more excitingly,"
   ]
  },
  {
   "cell_type": "code",
   "execution_count": 28,
   "metadata": {},
   "outputs": [
    {
     "data": {
      "text/plain": [
       "res16: scala.collection.immutable.Range.Inclusive = Range(1, 2, 3, 4, 5, 6, 7, 8, 9, 10)\n"
      ]
     },
     "execution_count": 28,
     "metadata": {},
     "output_type": "execute_result"
    }
   ],
   "source": [
    "1.to(10) // Yields Range(1, 2, 3, 4, 5, 6, 7, 8, 9, 10)"
   ]
  },
  {
   "cell_type": "code",
   "execution_count": 32,
   "metadata": {},
   "outputs": [
    {
     "data": {
      "text/plain": [
       "res20: Int = 99\n"
      ]
     },
     "execution_count": 32,
     "metadata": {},
     "output_type": "execute_result"
    }
   ],
   "source": [
    "99.44.toInt"
   ]
  },
  {
   "cell_type": "code",
   "execution_count": 30,
   "metadata": {},
   "outputs": [
    {
     "data": {
      "text/plain": [
       "res18: Char = c\n"
      ]
     },
     "execution_count": 30,
     "metadata": {},
     "output_type": "execute_result"
    }
   ],
   "source": [
    "99.toChar"
   ]
  },
  {
   "cell_type": "code",
   "execution_count": 33,
   "metadata": {},
   "outputs": [
    {
     "data": {
      "text/plain": [
       "res21: Double = 99.44\n"
      ]
     },
     "execution_count": 33,
     "metadata": {},
     "output_type": "execute_result"
    }
   ],
   "source": [
    "\"99.44\".toDouble"
   ]
  },
  {
   "cell_type": "markdown",
   "metadata": {},
   "source": [
    "#### Precision"
   ]
  },
  {
   "cell_type": "code",
   "execution_count": 6,
   "metadata": {},
   "outputs": [
    {
     "data": {
      "text/plain": [
       "num13: Double = 1.999999999999999\n"
      ]
     },
     "execution_count": 6,
     "metadata": {},
     "output_type": "execute_result"
    }
   ],
   "source": [
    "// A Double will only hold precision up to 15 digits\n",
    "val num13 = 1.999999999999999"
   ]
  },
  {
   "cell_type": "code",
   "execution_count": 8,
   "metadata": {},
   "outputs": [
    {
     "data": {
      "text/plain": [
       "lgPrime: scala.math.BigInt = 622288097498926496141095869268883999563096063592498055290461\n",
       "res2: scala.math.BigInt = 622288097498926496141095869268883999563096063592498055290462\n"
      ]
     },
     "execution_count": 8,
     "metadata": {},
     "output_type": "execute_result"
    }
   ],
   "source": [
    "// Create a BigInt\n",
    "val lgPrime = BigInt(\"622288097498926496141095869268883999563096063592498055290461\")\n",
    "lgPrime + 1"
   ]
  },
  {
   "cell_type": "code",
   "execution_count": 10,
   "metadata": {},
   "outputs": [
    {
     "data": {
      "text/plain": [
       "pi50: scala.math.BigDecimal = 3.14159265358979323846264338327950288419716939937510\n",
       "res4: scala.math.BigDecimal = 3.141592653589793238462643383279502884197169399375110\n"
      ]
     },
     "execution_count": 10,
     "metadata": {},
     "output_type": "execute_result"
    }
   ],
   "source": [
    "//Create a BigDecimal\n",
    "val pi50 = BigDecimal(\"3.14159265358979323846264338327950288419716939937510\")\n",
    "0.00000000000000000000000000000000000000000000000001 + pi50"
   ]
  },
  {
   "cell_type": "code",
   "execution_count": 11,
   "metadata": {},
   "outputs": [
    {
     "data": {
      "text/plain": [
       "randInt: Int = 100000\n"
      ]
     },
     "execution_count": 11,
     "metadata": {},
     "output_type": "execute_result"
    }
   ],
   "source": [
    "var randInt = 100000\n",
    " \n",
    "// See functions available by typing randInt. \n",
    "// randInt.asInstanceOf[Double] casts number to a double\n",
    "// randInt.isInstanceOf[Int] checks if is of type Int"
   ]
  },
  {
   "cell_type": "code",
   "execution_count": 13,
   "metadata": {},
   "outputs": [
    {
     "name": "stdout",
     "output_type": "stream",
     "text": [
      "5 + 4 = 9\n",
      "5 - 4 = 1\n",
      "5 * 4 = 20\n",
      "5 / 4 = 1\n",
      "5 % 4 = 1\n"
     ]
    }
   ],
   "source": [
    "// ---------- MATH ----------\n",
    "println(\"5 + 4 = \" + (5 + 4))\n",
    "println(\"5 - 4 = \" + (5 - 4))\n",
    "println(\"5 * 4 = \" + (5 * 4))\n",
    "println(\"5 / 4 = \" + (5 / 4))\n",
    "println(\"5 % 4 = \" + (5 % 4))"
   ]
  },
  {
   "cell_type": "code",
   "execution_count": 14,
   "metadata": {},
   "outputs": [
    {
     "name": "stdout",
     "output_type": "stream",
     "text": [
      "randInt += 1100001\n",
      "randInt -= 1100000\n",
      "randInt *= 1100000\n",
      "randInt /= 1100000\n"
     ]
    }
   ],
   "source": [
    "// Shorthand notation (No randInt++, or randInt--)\n",
    "randInt += 1\n",
    "println(\"randInt += 1\" + randInt)\n",
    " \n",
    "randInt -= 1\n",
    "println(\"randInt -= 1\" + randInt)\n",
    " \n",
    "randInt *= 1\n",
    "println(\"randInt *= 1\" + randInt)\n",
    " \n",
    "randInt /= 1\n",
    "println(\"randInt /= 1\" + randInt)"
   ]
  },
  {
   "cell_type": "markdown",
   "metadata": {},
   "source": [
    "## **Other functions**"
   ]
  },
  {
   "cell_type": "code",
   "execution_count": 25,
   "metadata": {},
   "outputs": [
    {
     "data": {
      "text/plain": [
       "res13: String = lo\n"
      ]
     },
     "execution_count": 25,
     "metadata": {},
     "output_type": "execute_result"
    }
   ],
   "source": [
    "\"Hello\".intersect(\"World\")"
   ]
  },
  {
   "cell_type": "code",
   "execution_count": 50,
   "metadata": {},
   "outputs": [
    {
     "data": {
      "text/plain": [
       "res31: String = Bjnooru\n"
      ]
     },
     "execution_count": 50,
     "metadata": {},
     "output_type": "execute_result"
    }
   ],
   "source": [
    "\"Bonjour\".sorted "
   ]
  },
  {
   "cell_type": "markdown",
   "metadata": {},
   "source": [
    "## **Methods**\n",
    "\n",
    "Here, + is the name of the method. Scala has no silly prejudice against non- alphanumeric characters in method names. "
   ]
  },
  {
   "cell_type": "code",
   "execution_count": 38,
   "metadata": {},
   "outputs": [
    {
     "data": {
      "text/plain": [
       "a: Int = 2\n",
       "b: Int = 1\n"
      ]
     },
     "execution_count": 38,
     "metadata": {},
     "output_type": "execute_result"
    }
   ],
   "source": [
    "val a = 2;\n",
    "\n",
    "val b = 1;"
   ]
  },
  {
   "cell_type": "code",
   "execution_count": 39,
   "metadata": {},
   "outputs": [
    {
     "data": {
      "text/plain": [
       "res23: Int = 3\n"
      ]
     },
     "execution_count": 39,
     "metadata": {},
     "output_type": "execute_result"
    }
   ],
   "source": [
    "a + b"
   ]
  },
  {
   "cell_type": "code",
   "execution_count": 40,
   "metadata": {},
   "outputs": [
    {
     "data": {
      "text/plain": [
       "res24: Int = 3\n"
      ]
     },
     "execution_count": 40,
     "metadata": {},
     "output_type": "execute_result"
    }
   ],
   "source": [
    "a.+(b)"
   ]
  },
  {
   "cell_type": "markdown",
   "metadata": {},
   "source": [
    "The same for the method to"
   ]
  },
  {
   "cell_type": "code",
   "execution_count": 41,
   "metadata": {},
   "outputs": [
    {
     "data": {
      "text/plain": [
       "res25: scala.collection.immutable.Range.Inclusive = Range(1, 2, 3, 4, 5, 6, 7, 8, 9, 10)\n"
      ]
     },
     "execution_count": 41,
     "metadata": {},
     "output_type": "execute_result"
    }
   ],
   "source": [
    "1.to(10)"
   ]
  },
  {
   "cell_type": "code",
   "execution_count": 42,
   "metadata": {},
   "outputs": [
    {
     "data": {
      "text/plain": [
       "res26: scala.collection.immutable.Range.Inclusive = Range(1, 2, 3, 4, 5, 6, 7, 8, 9, 10)\n"
      ]
     },
     "execution_count": 42,
     "metadata": {},
     "output_type": "execute_result"
    }
   ],
   "source": [
    "1 to 10"
   ]
  },
  {
   "cell_type": "markdown",
   "metadata": {},
   "source": [
    "## **Increments**"
   ]
  },
  {
   "cell_type": "code",
   "execution_count": 47,
   "metadata": {},
   "outputs": [
    {
     "data": {
      "text/plain": [
       "counter: Int = 0\n"
      ]
     },
     "execution_count": 47,
     "metadata": {},
     "output_type": "execute_result"
    }
   ],
   "source": [
    "var counter = 0"
   ]
  },
  {
   "cell_type": "code",
   "execution_count": 48,
   "metadata": {},
   "outputs": [],
   "source": [
    "counter +=1 "
   ]
  },
  {
   "cell_type": "code",
   "execution_count": 49,
   "metadata": {},
   "outputs": [
    {
     "data": {
      "text/plain": [
       "res30: Int = 1\n"
      ]
     },
     "execution_count": 49,
     "metadata": {},
     "output_type": "execute_result"
    }
   ],
   "source": [
    "counter"
   ]
  },
  {
   "cell_type": "markdown",
   "metadata": {},
   "source": [
    "## Import the math library in the terminal import scala.math._\n",
    "\n",
    "- abs(-8)\n",
    "- cbrt(64) // Cube root a^3 = n (Find a)\n",
    "- ceil(5.45)\n",
    "- round(5.45)\n",
    "- floor(5.45)\n",
    "- exp(1) // Euler's number raised to the power\n",
    "- pow(2, 2) // 2^2\n",
    "- sqrt(pow(2,2) + pow(2,2))\n",
    "- hypot(2, 2) // sqrt(X^2 + y^2)\n",
    "- log10(1000) // = 3 (10 × 10 × 10 = 10^3)\n",
    "- log(2.7182818284590455) // Natural logarithm to the base e\n",
    "- min(5, 10)\n",
    "- max(5, 10)\n",
    "- (random * (11 - 1) + 1).toInt // Random number between 1 and 10\n",
    "- toRadians(90)\n",
    "- toDegrees(1.5707963267948966)\n",
    "- acos, asin, atan, atan2, cos, cosh, sin, sinh, tan, tanh"
   ]
  },
  {
   "cell_type": "code",
   "execution_count": 17,
   "metadata": {},
   "outputs": [
    {
     "data": {
      "text/plain": [
       "import scala.math._\n",
       "res9: Int = 8\n"
      ]
     },
     "execution_count": 17,
     "metadata": {},
     "output_type": "execute_result"
    }
   ],
   "source": [
    "//ex\n",
    "import scala.math._\n",
    "abs(-8)"
   ]
  },
  {
   "cell_type": "markdown",
   "metadata": {},
   "source": [
    "If you don’t import the scala.math package, add the package name:"
   ]
  },
  {
   "cell_type": "code",
   "execution_count": 52,
   "metadata": {},
   "outputs": [
    {
     "data": {
      "text/plain": [
       "res32: Double = 1.4142135623730951\n"
      ]
     },
     "execution_count": 52,
     "metadata": {},
     "output_type": "execute_result"
    }
   ],
   "source": [
    "scala.math.sqrt(2)"
   ]
  },
  {
   "cell_type": "markdown",
   "metadata": {},
   "source": [
    "or"
   ]
  },
  {
   "cell_type": "code",
   "execution_count": 53,
   "metadata": {},
   "outputs": [
    {
     "data": {
      "text/plain": [
       "res33: Double = 1.4142135623730951\n"
      ]
     },
     "execution_count": 53,
     "metadata": {},
     "output_type": "execute_result"
    }
   ],
   "source": [
    "math.sqrt(2)"
   ]
  },
  {
   "cell_type": "markdown",
   "metadata": {},
   "source": [
    "## The apply Method"
   ]
  },
  {
   "cell_type": "code",
   "execution_count": 55,
   "metadata": {},
   "outputs": [
    {
     "data": {
      "text/plain": [
       "s: String = Hello\n",
       "res34: Char = o\n"
      ]
     },
     "execution_count": 55,
     "metadata": {},
     "output_type": "execute_result"
    }
   ],
   "source": [
    "val s = \"Hello\" \n",
    "\n",
    "s(4) // Yields 'o'"
   ]
  },
  {
   "cell_type": "code",
   "execution_count": 57,
   "metadata": {},
   "outputs": [
    {
     "ename": "<console>",
     "evalue": "23: error: class $iw needs to be abstract, since method apply is not defined",
     "output_type": "error",
     "traceback": [
      "<console>:23: error: class $iw needs to be abstract, since method apply is not defined",
      "class $iw extends Serializable {",
      "      ^",
      ""
     ]
    }
   ],
   "source": [
    "// with apply\n",
    "def apply(n: Int): Char\n",
    "\n",
    "s.apply(4)"
   ]
  },
  {
   "cell_type": "markdown",
   "metadata": {},
   "source": [
    "## **Note:**\n",
    "\n",
    "Scala.js project (www.scala-js.org) provides tools to translate Scala to JavaScript. If you take advantage of that project, you can write both the client-side and the server-side code of web applications in Scala."
   ]
  },
  {
   "cell_type": "markdown",
   "metadata": {},
   "source": [
    "## ---------- CONDITIONALS ----------\n",
    " if statements are like Java except they return a value like the ternary operator\n",
    " \n",
    "- Conditional Operators : ==, !=, >, <, >=, <=\n",
    "- Logical Operators : &&, ||, !\n",
    " "
   ]
  },
  {
   "cell_type": "code",
   "execution_count": 18,
   "metadata": {},
   "outputs": [
    {
     "name": "stdout",
     "output_type": "stream",
     "text": [
      "Go to Grade 13\n"
     ]
    },
    {
     "data": {
      "text/plain": [
       "age: Int = 18\n",
       "canVote: String = yes\n"
      ]
     },
     "execution_count": 18,
     "metadata": {},
     "output_type": "execute_result"
    }
   ],
   "source": [
    "var age = 18\n",
    " \n",
    "val canVote = if (age >= 18) \"yes\" else \"no\"\n",
    " \n",
    "// You have to use { } in the REPL, but not otherwise\n",
    "if ((age >= 5) && (age <= 6)) {\n",
    "  println(\"Go to Kindergarten\")\n",
    "} else if ((age > 6) && (age <= 7)) {\n",
    "  println(\"Go to Grade 1\")\n",
    "} else {\n",
    "  println(\"Go to Grade \" + (age - 5))\n",
    "}"
   ]
  },
  {
   "cell_type": "code",
   "execution_count": 20,
   "metadata": {},
   "outputs": [
    {
     "data": {
      "text/plain": [
       "res12: Boolean = true\n"
      ]
     },
     "execution_count": 20,
     "metadata": {},
     "output_type": "execute_result"
    }
   ],
   "source": [
    "true || false"
   ]
  },
  {
   "cell_type": "code",
   "execution_count": 21,
   "metadata": {},
   "outputs": [],
   "source": [
    "!(true)"
   ]
  },
  {
   "cell_type": "markdown",
   "metadata": {},
   "source": [
    "## **Objects**"
   ]
  },
  {
   "cell_type": "code",
   "execution_count": 24,
   "metadata": {},
   "outputs": [
    {
     "data": {
      "text/plain": [
       "defined object ScalaTut\n"
      ]
     },
     "execution_count": 24,
     "metadata": {},
     "output_type": "execute_result"
    }
   ],
   "source": [
    "object ScalaTut {\n",
    "  def main(args: Array[String]) {\n",
    " \n",
    "// ---------- LOOPING ----------\n",
    "// To compile and run in the terminal\n",
    "// 1. scalac ScalaTut.scala\n",
    "// 2. scala ScalaTut\n",
    " \n",
    "    var i = 0\n",
    " \n",
    "    while (i <= 10) {\n",
    "      println(i)\n",
    "      i += 1\n",
    "    }\n",
    "  }\n",
    "}"
   ]
  },
  {
   "cell_type": "code",
   "execution_count": 25,
   "metadata": {},
   "outputs": [
    {
     "data": {
      "text/plain": [
       "defined object ScalaTut\n"
      ]
     },
     "execution_count": 25,
     "metadata": {},
     "output_type": "execute_result"
    }
   ],
   "source": [
    "object ScalaTut {\n",
    "  def main(args: Array[String]) {\n",
    " \n",
    "// ---------- LOOPING ----------\n",
    "// To compile and run in the terminal\n",
    "// 1. scalac ScalaTut.scala\n",
    "// 2. scala ScalaTut\n",
    "    var i = 0 \n",
    "    do {\n",
    "      println(i)\n",
    "      i += 1\n",
    "    } while(i <= 20)\n",
    "  }\n",
    "}"
   ]
  },
  {
   "cell_type": "code",
   "execution_count": 27,
   "metadata": {},
   "outputs": [
    {
     "data": {
      "text/plain": [
       "defined object ScalaTut\n"
      ]
     },
     "execution_count": 27,
     "metadata": {},
     "output_type": "execute_result"
    }
   ],
   "source": [
    "object ScalaTut {\n",
    "  def main(args: Array[String]) {\n",
    " \n",
    "// ---------- LOOPING ----------\n",
    "// To compile and run in the terminal\n",
    "// 1. scalac ScalaTut.scala\n",
    "// 2. scala ScalaTut\n",
    "    var i = 0 \n",
    "    // until is often used to loop through strings or arrays\n",
    "    val randLetters = \"ABCDEFGHIJKLMNOPQRSTUVWXYZ\"\n",
    "    for (i <- 0 until randLetters.length){\n",
    " \n",
    "      // Get the letter in the index of the String\n",
    "      println(randLetters(i))\n",
    "    }\n",
    "  }\n",
    "}"
   ]
  },
  {
   "cell_type": "code",
   "execution_count": 29,
   "metadata": {},
   "outputs": [
    {
     "data": {
      "text/plain": [
       "defined object ScalaTut\n"
      ]
     },
     "execution_count": 29,
     "metadata": {},
     "output_type": "execute_result"
    }
   ],
   "source": [
    "object ScalaTut {\n",
    "  def main(args: Array[String]) {\n",
    " \n",
    "// ---------- LOOPING ----------\n",
    "// To compile and run in the terminal\n",
    "// 1. scalac ScalaTut.scala\n",
    "// 2. scala ScalaTut\n",
    "    // Used to iterate through a list\n",
    "    var i = 0\n",
    "    val aList = List(1,2,3,4,5)\n",
    "    for(i <- aList){\n",
    "      println(\"List Item \" + i)\n",
    "    }\n",
    "  }\n",
    "}"
   ]
  },
  {
   "cell_type": "code",
   "execution_count": 31,
   "metadata": {},
   "outputs": [
    {
     "name": "stdout",
     "output_type": "stream",
     "text": [
      "Even List\n",
      "2\n",
      "4\n",
      "6\n",
      "8\n",
      "10\n",
      "12\n",
      "14\n",
      "16\n",
      "18\n",
      "20\n"
     ]
    },
    {
     "data": {
      "text/plain": [
       "evenList: scala.collection.immutable.IndexedSeq[Int] = Vector(2, 4, 6, 8, 10, 12, 14, 16, 18, 20)\n"
      ]
     },
     "execution_count": 31,
     "metadata": {},
     "output_type": "execute_result"
    }
   ],
   "source": [
    "// Store even numbers in a list\n",
    "var evenList = for { i <- 1 to 20\n",
    "    // You can put as many conditons here separated with semicolons\n",
    "    // as you need\n",
    "    if (i % 2) == 0\n",
    "} yield i\n",
    "\n",
    "println(\"Even List\")\n",
    "    for(i <- evenList)\n",
    "      println(i)"
   ]
  },
  {
   "cell_type": "code",
   "execution_count": null,
   "metadata": {},
   "outputs": [],
   "source": [
    "// This loop assigns a value to the 1st variable and it retains\n",
    "    // that value until the 2nd finishes its cycle and then it iterates\n",
    "for (i <- 1 to 5; j <- 6 to 10){\n",
    "    println(\"i: \" + i)\n",
    "    println(\"j: \" + j)\n",
    "    }"
   ]
  },
  {
   "cell_type": "code",
   "execution_count": 4,
   "metadata": {},
   "outputs": [
    {
     "name": "stdout",
     "output_type": "stream",
     "text": [
      "Hello Derek\n"
     ]
    },
    {
     "data": {
      "text/plain": [
       "name: String = Derek\n",
       "age: Int = 39\n",
       "weight: Double = 175.5\n"
      ]
     },
     "execution_count": 4,
     "metadata": {},
     "output_type": "execute_result"
    }
   ],
   "source": [
    "//You can use string interpolation\n",
    "val name = \"Derek\"\n",
    "val age = 39\n",
    "val weight = 175.5\n",
    "println(s\"Hello $name\")"
   ]
  },
  {
   "cell_type": "code",
   "execution_count": 5,
   "metadata": {},
   "outputs": [
    {
     "name": "stdout",
     "output_type": "stream",
     "text": [
      "I am 40 and weigh 175.50\n",
      "'    5'\n",
      "'5     Hi'\n",
      "'00005'\n",
      "'3.14000'\n",
      "'Hi   '\n"
     ]
    }
   ],
   "source": [
    "println(f\"I am ${age + 1} and weigh $weight%.2f\")\n",
    " \n",
    "// printf Style Format Specifiers\n",
    "// %c : Characters\n",
    "// %d : Integers\n",
    "// %f : Floating Point Numbers\n",
    "// %s : Strings\n",
    "printf(\"'%5d'\\n\",5) // Right justify\n",
    " \n",
    "printf(\"'%-5d Hi'\\n\",5) // Left justify\n",
    " \n",
    "printf(\"'%05d'\\n\",5) // Zero Fill\n",
    " \n",
    "printf(\"'%.5f'\\n\",3.14) // 5 decimal minimum & maximum\n",
    " \n",
    "printf(\"'%-5s'\\n\", \"Hi\") // Left Justify String"
   ]
  },
  {
   "cell_type": "code",
   "execution_count": 6,
   "metadata": {},
   "outputs": [
    {
     "name": "stdout",
     "output_type": "stream",
     "text": [
      "3rd Index : a\n",
      "String length 21\n",
      "I saw a dragon fly by and explode\n",
      "Are strings equal false\n",
      "(dragon starts at index ,8)\n"
     ]
    },
    {
     "data": {
      "text/plain": [
       "randSent: String = I saw a dragon fly by\n"
      ]
     },
     "execution_count": 6,
     "metadata": {},
     "output_type": "execute_result"
    }
   ],
   "source": [
    "// ---------- STRINGS ----------\n",
    "var randSent = \"I saw a dragon fly by\"\n",
    " \n",
    "// Get the 3rd index value\n",
    "println(\"3rd Index : \" + randSent(3))\n",
    " \n",
    "// Get String length\n",
    "println(\"String length \" + randSent.length())\n",
    " \n",
    "// Concatenate strings\n",
    "println(randSent.concat(\" and explode\"))\n",
    " \n",
    "// Compare strings for equality\n",
    "println(\"Are strings equal \" + \"I saw a dragon\".equals(randSent))\n",
    " \n",
    "// Get index of a match\n",
    "println(\"dragon starts at index \", randSent.indexOf(\"dragon\"))\n",
    " "
   ]
  },
  {
   "cell_type": "code",
   "execution_count": 7,
   "metadata": {},
   "outputs": [
    {
     "name": "stdout",
     "output_type": "stream",
     "text": [
      "I\n",
      " \n",
      "s\n",
      "a\n",
      "w\n",
      " \n",
      "a\n",
      " \n",
      "d\n",
      "r\n",
      "a\n",
      "g\n",
      "o\n",
      "n\n",
      " \n",
      "f\n",
      "l\n",
      "y\n",
      " \n",
      "b\n",
      "y\n"
     ]
    },
    {
     "data": {
      "text/plain": [
       "randSentArray: Array[Char] = Array(I,  , s, a, w,  , a,  , d, r, a, g, o, n,  , f, l, y,  , b, y)\n"
      ]
     },
     "execution_count": 7,
     "metadata": {},
     "output_type": "execute_result"
    }
   ],
   "source": [
    "// Convert a string into an array\n",
    "val randSentArray = randSent.toArray\n",
    " \n",
    "for (v <- randSentArray)\n",
    "  println(v)"
   ]
  },
  {
   "cell_type": "markdown",
   "metadata": {},
   "source": [
    "## ---------- FUNCTIONS ----------\n",
    "` def funcName (param1:dataType, param2:dataType) : returnType = {\n",
    "    \n",
    "    function body\n",
    "\n",
    "    return valueToReturn\n",
    "`} `"
   ]
  },
  {
   "cell_type": "code",
   "execution_count": 8,
   "metadata": {},
   "outputs": [
    {
     "data": {
      "text/plain": [
       "getSum: (num1: Int, num2: Int)Int\n"
      ]
     },
     "execution_count": 8,
     "metadata": {},
     "output_type": "execute_result"
    }
   ],
   "source": [
    "// You can give parameters default values\n",
    "def getSum( num1:Int = 1, num2:Int = 1) : Int = {\n",
    "  return num1 + num2\n",
    "}"
   ]
  },
  {
   "cell_type": "code",
   "execution_count": 9,
   "metadata": {},
   "outputs": [
    {
     "name": "stdout",
     "output_type": "stream",
     "text": [
      "5 + 4 = 9\n"
     ]
    }
   ],
   "source": [
    "println(\"5 + 4 = \" + getSum(5,4))"
   ]
  },
  {
   "cell_type": "code",
   "execution_count": null,
   "metadata": {},
   "outputs": [],
   "source": [
    "// you can use named arguments\n",
    "println(\"5 + 4 = \" + getSum(num2=5, num1=4))"
   ]
  },
  {
   "cell_type": "code",
   "execution_count": 10,
   "metadata": {},
   "outputs": [
    {
     "data": {
      "text/plain": [
       "sayHi: ()Unit\n"
      ]
     },
     "execution_count": 10,
     "metadata": {},
     "output_type": "execute_result"
    }
   ],
   "source": [
    "// A function that returns nothing (Procedure)\n",
    "def sayHi() : Unit = {\n",
    "  println(\"Hi how are you doing\")\n",
    "}"
   ]
  },
  {
   "cell_type": "code",
   "execution_count": 11,
   "metadata": {},
   "outputs": [
    {
     "data": {
      "text/plain": [
       "getSum2: (args: Int*)Int\n"
      ]
     },
     "execution_count": 11,
     "metadata": {},
     "output_type": "execute_result"
    }
   ],
   "source": [
    "// Receive variable number of arguments\n",
    "def getSum2(args: Int*) : Int = {\n",
    "  var sum : Int = 0\n",
    "  for(num <- args){\n",
    "    sum += num\n",
    "  }\n",
    "  sum\n",
    "}"
   ]
  },
  {
   "cell_type": "code",
   "execution_count": 12,
   "metadata": {},
   "outputs": [
    {
     "name": "stdout",
     "output_type": "stream",
     "text": [
      "getSum2: 15\n"
     ]
    }
   ],
   "source": [
    "println(\"getSum2: \" + getSum2(1,2,3,4,5))"
   ]
  },
  {
   "cell_type": "code",
   "execution_count": 13,
   "metadata": {},
   "outputs": [
    {
     "data": {
      "text/plain": [
       "factorial: (num: BigInt)BigInt\n"
      ]
     },
     "execution_count": 13,
     "metadata": {},
     "output_type": "execute_result"
    }
   ],
   "source": [
    "// Recursion example calculating factorials\n",
    "def factorial(num : BigInt) : BigInt = {\n",
    "  if (num <= 1)\n",
    "    1\n",
    "  else\n",
    "    num * factorial(num - 1)\n",
    "}"
   ]
  },
  {
   "cell_type": "code",
   "execution_count": 14,
   "metadata": {},
   "outputs": [
    {
     "name": "stdout",
     "output_type": "stream",
     "text": [
      "Factorial of 4 = 24\n"
     ]
    }
   ],
   "source": [
    "// 1st: num = 4 * factorial(3) = 4 * 6 = 24\n",
    "// 2nd: num = 3 * factorial(2) = 3 * 2 = 6\n",
    "// 3rd: num = 2 * factorial(1) = 2 * 1 = 2\n",
    " \n",
    "println(\"Factorial of 4 = \" + factorial(4))"
   ]
  },
  {
   "cell_type": "markdown",
   "metadata": {},
   "source": [
    "## ---------- ARRAYS ----------\n",
    " You'll use arrays when the size is fixed, or an ArrayBuffer for a variable size\n",
    " \n",
    " Create an array of Ints with a max size of 20"
   ]
  },
  {
   "cell_type": "code",
   "execution_count": 16,
   "metadata": {},
   "outputs": [
    {
     "data": {
      "text/plain": [
       "favNums: Array[Int] = Array(0, 0, 0, 0, 0, 0, 0, 0, 0, 0, 0, 0, 0, 0, 0, 0, 0, 0, 0, 0)\n"
      ]
     },
     "execution_count": 16,
     "metadata": {},
     "output_type": "execute_result"
    }
   ],
   "source": [
    "val favNums = new Array[Int](20)"
   ]
  },
  {
   "cell_type": "code",
   "execution_count": 17,
   "metadata": {},
   "outputs": [
    {
     "name": "stdout",
     "output_type": "stream",
     "text": [
      "Best Friend Sue\n"
     ]
    },
    {
     "data": {
      "text/plain": [
       "friends: Array[String] = Array(Sue, Tom)\n"
      ]
     },
     "execution_count": 17,
     "metadata": {},
     "output_type": "execute_result"
    }
   ],
   "source": [
    "// Create and initialize array in 1 line\n",
    "val friends = Array(\"Bob\", \"Tom\")\n",
    " \n",
    "// Change the value in an array\n",
    "friends(0) = \"Sue\"\n",
    " \n",
    "println(\"Best Friend \" + friends(0))"
   ]
  },
  {
   "cell_type": "code",
   "execution_count": 22,
   "metadata": {},
   "outputs": [
    {
     "ename": "<console>",
     "evalue": "25: error: not found: value ArrayBuffer",
     "output_type": "error",
     "traceback": [
      "<console>:25: error: not found: value ArrayBuffer",
      "       val friends2 = ArrayBuffer[String]()",
      "                      ^",
      ""
     ]
    }
   ],
   "source": [
    "// Create an ArrayBuffer\n",
    "val friends2 = ArrayBuffer[String]()\n",
    "\n",
    "// Add an item to the 1st index\n",
    "friends2.insert(0, \"Phil\")\n",
    " \n",
    "// Add item to the next available slot\n",
    "friends2 += \"Mark\"\n",
    " \n",
    "// Add multiple values to the next available slot\n",
    "friends2 ++= Array(\"Susy\", \"Paul\")\n",
    " \n",
    "// Add items starting at 2nd slot\n",
    "friends2.insert(1, \"Mike\", \"Sally\", \"Sam\", \"Mary\", \"Sue\")\n",
    " \n",
    "// Remove the 2nd element\n",
    "friends2.remove(1)\n",
    " \n",
    "// Remove 2 elements starting at the 2nd index\n",
    "friends2.remove(1, 2)"
   ]
  },
  {
   "cell_type": "code",
   "execution_count": 20,
   "metadata": {},
   "outputs": [
    {
     "ename": "<console>",
     "evalue": "42: error: not found: value friends2",
     "output_type": "error",
     "traceback": [
      "<console>:42: error: not found: value friends2",
      "       friends2.remove(1, 2)",
      "       ^",
      "<console>:25: error: not found: value friends2",
      "       friends2.insert(0, \"Phil\")",
      "       ^",
      "<console>:28: error: not found: value friends2",
      "       friends2 += \"Mark\"",
      "       ^",
      "<console>:31: error: not found: value friends2",
      "       friends2 ++= Array(\"Susy\", \"Paul\")",
      "       ^",
      "<console>:34: error: not found: value friends2",
      "       friends2.insert(1, \"Mike\", \"Sally\", \"Sam\", \"Mary\", \"Sue\")",
      "       ^",
      "<console>:37: error: not found: value friends2",
      "       friends2.remove(1)",
      "       ^",
      ""
     ]
    }
   ],
   "source": []
  },
  {
   "cell_type": "code",
   "execution_count": 15,
   "metadata": {},
   "outputs": [
    {
     "ename": "<console>",
     "evalue": "215: error: eof expected but '}' found.",
     "output_type": "error",
     "traceback": [
      "<console>:215: error: eof expected but '}' found.",
      "} // ---------- END OF MAIN ----------",
      "^",
      ""
     ]
    }
   ],
   "source": [
    "\n",
    " \n",
    "\n",
    " \n",
    "// Cycle through and print ArrayList or Array\n",
    "var friend : String = \" \"\n",
    "for(friend <- friends2)\n",
    "      println(friend)\n",
    " \n",
    "// Add values to an array with a loop\n",
    "for (j <- 0 to (favNums.length - 1)){\n",
    "  favNums(j) = j\n",
    "  println(favNums(j))\n",
    "}\n",
    " \n",
    "// Use yield to multiply all values times 2 and store in a new array\n",
    "val favNumsTimes2 = for(num <- favNums) yield 2 * num\n",
    " \n",
    "// Another way to print out values in array\n",
    "favNumsTimes2.foreach(println)\n",
    " \n",
    "// You can also store values that match a condition\n",
    "var favNumsDiv4 = for(num <- favNums if num % 4 == 0) yield num\n",
    " \n",
    "favNumsDiv4.foreach(println)\n",
    " \n"
   ]
  },
  {
   "cell_type": "code",
   "execution_count": null,
   "metadata": {},
   "outputs": [],
   "source": [
    "// Create a multidimensional array with Array.ofDim\n",
    "var multTable = Array.ofDim[Int](10,10)\n",
    " \n",
    "for(i <- 0 to 9){\n",
    "  for(j <- 0 to 9){\n",
    "    multTable(i)(j) = i * j\n",
    "  }\n",
    "}\n",
    " \n",
    "for(i <- 0 to 9){\n",
    "  for(j <- 0 to 9){\n",
    "    printf(\"%d : %d = %d\\n\", i, j, multTable(i)(j))\n",
    "  }\n",
    "}\n",
    " \n",
    "println(\"Sum : \" + favNums.sum)\n",
    " \n",
    "println(\"Min : \" + favNums.min)\n",
    " \n",
    "println(\"Max : \" + favNums.max)\n",
    " \n",
    "// Sort in desending order (Use < for assending)\n",
    "val sortedNums = favNums.sortWith(_ > _)\n",
    " \n",
    "// Return an indexed sequence and convert it into a string with commas\n",
    "println(sortedNums.deep.mkString(\", \"))\n",
    " \n",
    "// ---------- MAPS ----------\n",
    "// Maps are collections of key value pairs\n",
    " \n",
    "// Create a Map that can't be changed (Immutable)\n",
    "val employees = Map(\"Manager\" -> \"Bob Smith\", \"Secretary\" -> \"Sue Brown\")\n",
    " \n",
    "// Get value using the key after checking that it exists\n",
    "if(employees.contains(\"Manager\"))\n",
    "  printf(\"Manager : %s\\n\", employees(\"Manager\"))\n",
    " \n",
    "// Create a Mutable map\n",
    "val customers = collection.mutable.Map(100 -> \"Paul Smith\",\n",
    "  101 -> \"Sally Smith\")\n",
    " \n",
    "printf(\"Cust 1 : %s\\n\", customers(100))\n",
    " \n",
    "// Change a value using the key\n",
    "customers(100) = \"Tom Marks\"\n",
    " \n",
    "// Add an item\n",
    "customers(102) = \"Megan Swift\"\n",
    " \n",
    "// Output a Map\n",
    "for((k,v) <- customers)\n",
    "  printf(\"%d : %s\\n\", k, v)\n",
    " \n",
    "// ---------- TUPLES ----------\n",
    "// Tuples can hold values of many types, but they are immutable\n",
    " \n",
    "var tupleMarge = (103, \"Marge Simpson\", 10.25)\n",
    " \n",
    "printf(\"%s owes us $%.2f\\n\", tupleMarge._2, tupleMarge._3)\n",
    " \n",
    "// Iterate through a tuple\n",
    "tupleMarge.productIterator.foreach{ i => println(i)}\n",
    " \n",
    "// Convert Tuple to String\n",
    "println(tupleMarge.toString())\n",
    " \n",
    "\n"
   ]
  },
  {
   "cell_type": "code",
   "execution_count": null,
   "metadata": {},
   "outputs": [],
   "source": [
    "// ---------- CLASSES ----------\n",
    "val rover = new Animal\n",
    "rover.setName(\"Rover\")\n",
    "rover.setSound(\"Woof\")\n",
    "printf(\"%s says %s\\n\", rover.getName, rover.getSound)\n",
    " \n",
    "val whiskers = new Animal(\"Whiskers\", \"Meow\")\n",
    "println(s\"${whiskers.getName} with id ${whiskers.id} says ${whiskers.getSound}\")\n",
    " \n",
    "println(whiskers.toString)\n",
    " \n",
    "val spike = new Dog(\"Spike\", \"Woof\", \"Grrrr\")\n",
    " \n",
    "spike.setName(\"Spike\")\n",
    "println(spike.toString)\n",
    " \n",
    "val fang = new Wolf(\"Fang\")\n",
    "fang.moveSpeed = 36.0\n",
    "println(fang.move)\n",
    " \n",
    "// ---------- TRAITS ----------\n",
    "val superman = new Superhero(\"Superman\")\n",
    "println(superman.fly)\n",
    "println(superman.hitByBullet)\n",
    "println(superman.ricochet(2500))\n",
    " \n",
    "// ---------- HIGHER ORDER FUNCTIONS ----------\n",
    "// Functions can be passed like any other variable\n",
    "// You need the _ after the function to state you meant the function\n",
    "val log10Func = log10 _\n",
    " \n",
    "println(log10Func(1000))\n",
    " \n",
    "// You can apply a function to all items of a list with map\n",
    "List(1000.0,10000.0).map(log10Func).foreach(println)\n",
    " \n",
    "// You can use an anonymous function with map as well\n",
    "// Receives an Int x and multiplies every x by 50\n",
    "List(1,2,3,4,5).map((x : Int) => x * 50).foreach(println)\n",
    " \n",
    "// Filter will pass only those values that meet a condition\n",
    "List(1,2,3,4,5,6).filter(_ % 2 == 0).foreach(println)\n",
    " \n",
    "// Pass different functions to a function\n",
    "def times3(num : Int) = num * 3\n",
    "def times4(num : Int) = num * 4\n",
    " \n",
    "// Define the function parameter type and return type\n",
    "def multIt(func : (Int) => Double, num : Int ) = {\n",
    "  func(num)\n",
    "}\n",
    " \n",
    "printf(\"3 * 100 = %.1f)\\n\", multIt(times3, 100))\n",
    " \n",
    "// A closure is a function that depends on a variable declared outside\n",
    "// of the function\n",
    "val divisorVal = 5\n",
    "val divisor5 = (num : Double) => num / divisorVal\n",
    "println(\"5 / 5 = \" + divisor5(5.0))\n",
    " \n",
    "// ---------- FILE I/O ----------\n",
    "// Use import java.io.PrintWriter to write to a file\n",
    "val writer = new PrintWriter(\"test.txt\")\n",
    "writer.write(\"Just some random text\\nSome more random text\")\n",
    "writer.close()\n",
    " \n",
    "// Use import scala.io.Source to read from files\n",
    "val textFromFile = Source.fromFile(\"test.txt\", \"UTF-8\")\n",
    " \n",
    "// Iterate through each line in the file and print\n",
    "val lineIterator = textFromFile.getLines\n",
    "for(line <- lineIterator){\n",
    "  println(line)\n",
    "}\n",
    "textFromFile.close()\n",
    " \n",
    "// ---------- EXCEPTION HANDLING ----------\n",
    " \n",
    "def divideNums(num1 : Int, num2 : Int) = try\n",
    "{\n",
    "  (num1 / num2)\n",
    "} catch {\n",
    "    case ex: java.lang.ArithmeticException => \"Can't divide by zero\"\n",
    "} finally {\n",
    "  // Clean up after exception here\n",
    "}\n",
    " \n",
    "println(\"3 / 0 = \" + divideNums(3,0))\n",
    " \n",
    "} // ---------- END OF MAIN ----------\n",
    " \n",
    "// ---------- CLASSES ----------\n",
    "// Classes are used as blueprints to create objects\n",
    "// Objects define the attributes (fields) and capabilities (methods) of an\n",
    "// object\n",
    " \n",
    "class Animal(var name : String, var sound : String) {\n",
    "  this.setName(name)\n",
    " \n",
    "  // Any code that follows the class name is executed each time an\n",
    "  // object is created as part of the Primary Constructor\n",
    " \n",
    "  // This function is defined in the Animal companion object below\n",
    "  val id = Animal.newIdNum\n",
    " \n",
    "  // You must initialize all fields\n",
    "  // protected means the field can only be accessed directly by methods\n",
    "  // defined in the class or by subclasses\n",
    "  // private fields can't be accessed by subclasses of Animal\n",
    "  // public fields can be accessed directly by anything\n",
    " \n",
    "  // protected var name = \"No Name\"\n",
    "  // protected var sound = \"No Sound\"\n",
    " \n",
    "  // Getters and setters are used to protect data\n",
    "  def getName() : String = name\n",
    "  def getSound() : String = sound\n",
    "  def setName(name : String){\n",
    "    // Check if the String contains numbers and if so don't allow\n",
    "    if(!(name.matches(\".*\\\\d+.*\")))\n",
    " \n",
    "      // this allows us to refer to any object without knowing its name\n",
    "      this.name = name\n",
    "    else\n",
    "      this.name = \"No Name\"\n",
    "  }\n",
    "  def setSound(sound : String) {\n",
    "    this.sound = sound\n",
    "  }\n",
    " \n",
    "  // Subclasses can't call this constructor unlike with Java\n",
    "  def this (name : String){\n",
    " \n",
    "    // This calls the primary constructor defined on the class line\n",
    "    this(\"No Name\", \"No Sound\")\n",
    "    this.setName(name)\n",
    "  }\n",
    " \n",
    "  def this (){\n",
    "    // This calls the primary constructor defined on the class line\n",
    "    this(\"No Name\", \"No Sound\")\n",
    "  }\n",
    " \n",
    "  // You can override any other method\n",
    "  override def toString() : String = {\n",
    " \n",
    "    // How to format Strings\n",
    "    return \"%s with the id %d says %s\".format(this.name, this.id, this.sound)\n",
    "  }\n",
    " \n",
    "}\n",
    " \n",
    "// The companion object for a class is where you'd define static class\n",
    "// variables and functions in Java\n",
    "object Animal {\n",
    "  private var idNumber = 0\n",
    "  private def newIdNum = { idNumber += 1; idNumber }\n",
    "}\n",
    " \n",
    "// ---------- INHERITANCE ----------\n",
    "// A class that inherits from another gains all its fields and methods\n",
    "// A class declared final can't be extended\n",
    "class Dog (name : String, sound : String, growl : String) extends\n",
    "Animal(name, sound){\n",
    " \n",
    "  def this (name : String, sound : String){\n",
    "    this(\"No Name\", sound, \"No Growl\")\n",
    "    this.setName(name)\n",
    "  }\n",
    " \n",
    "  def this (name : String){\n",
    "    this(\"No Name\", \"No Sound\", \"No Growl\")\n",
    "    this.setName(name)\n",
    "  }\n",
    " \n",
    "  def this (){\n",
    "    this(\"No Name\", \"No Sound\", \"No Growl\")\n",
    "  }\n",
    " \n",
    "  // You can override any other method\n",
    "  override def toString() : String = {\n",
    "    return \"%s with the id %d says %s or %s\".format(\n",
    "      this.name, this.id, this.sound, this.growl)\n",
    "  }\n",
    "}\n",
    " \n",
    "// ---------- ABSTRACT CLASS ----------\n",
    "// An abstract class can't be instantiated. It is made up of both abstract\n",
    "// and non-abstract methods and fields\n",
    " \n",
    "abstract class Mammal(val name : String){\n",
    "  // An abstract field has no initial value\n",
    "  var moveSpeed : Double\n",
    " \n",
    "  // An abstract method has no body\n",
    "  def move : String\n",
    " \n",
    "}\n",
    " \n",
    "class Wolf(name : String) extends Mammal(name){\n",
    "  // You don't use override when defining abstract fields\n",
    "  var moveSpeed = 35.0;\n",
    " \n",
    "  def move = \"The wolf %s runs %.2f mph\".format(this.name, this.moveSpeed)\n",
    " \n",
    "}\n",
    " \n",
    "// ---------- TRAITS ----------\n",
    "// A trait is a like a Java interface in that a class can extend more then 1\n",
    "// Unlike Java interfaces traits can provide concrete methods and fields\n",
    "trait Flyable {\n",
    "  def fly : String\n",
    " \n",
    "}\n",
    " \n",
    "trait Bulletproof {\n",
    "  def hitByBullet : String\n",
    " \n",
    "  // You can define concrete methods in traits\n",
    "  def ricochet(startSpeed : Double) : String = {\n",
    "    \"The bullet ricochets at a speed of %.1f ft/sec\".format(startSpeed * .75)\n",
    "  }\n",
    "}\n",
    " \n",
    "// The first trait starts with extends and then with for each other\n",
    "class Superhero(val name : String) extends Flyable with Bulletproof{\n",
    "  def fly = \"%s flys through the air\".format(this.name)\n",
    " \n",
    "  def hitByBullet = \"The bullet bounces off of %s\".format(this.name)\n",
    "}\n",
    " \n",
    "} // ---------- End of object ScalaTut ----------\n",
    "\n",
    "\n"
   ]
  },
  {
   "cell_type": "code",
   "execution_count": null,
   "metadata": {},
   "outputs": [],
   "source": []
  }
 ],
 "metadata": {
  "kernelspec": {
   "display_name": "spylon-kernel",
   "language": "scala",
   "name": "spylon-kernel"
  },
  "language_info": {
   "codemirror_mode": "text/x-scala",
   "file_extension": ".scala",
   "help_links": [
    {
     "text": "MetaKernel Magics",
     "url": "https://metakernel.readthedocs.io/en/latest/source/README.html"
    }
   ],
   "mimetype": "text/x-scala",
   "name": "scala",
   "pygments_lexer": "scala",
   "version": "0.4.1"
  }
 },
 "nbformat": 4,
 "nbformat_minor": 4
}
