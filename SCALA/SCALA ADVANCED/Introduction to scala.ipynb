{
 "cells": [
  {
   "cell_type": "code",
   "execution_count": null,
   "metadata": {},
   "outputs": [],
   "source": []
  },
  {
   "cell_type": "code",
   "execution_count": 1,
   "metadata": {},
   "outputs": [
    {
     "data": {
      "text/plain": [
       "Intitializing Scala interpreter ..."
      ]
     },
     "metadata": {},
     "output_type": "display_data"
    },
    {
     "data": {
      "text/plain": [
       "Spark Web UI available at http://192.168.0.11:4040\n",
       "SparkContext available as 'sc' (version = 2.4.4, master = local[*], app id = local-1577383901913)\n",
       "SparkSession available as 'spark'\n"
      ]
     },
     "metadata": {},
     "output_type": "display_data"
    },
    {
     "data": {
      "text/plain": [
       "defined object Geeks\n"
      ]
     },
     "execution_count": 1,
     "metadata": {},
     "output_type": "execute_result"
    }
   ],
   "source": [
    "// Scala program to print Hello, Geeks! \n",
    "// by using object-oriented approach \n",
    "  \n",
    "// creating object \n",
    "object Geeks { \n",
    "  \n",
    "// Main method \n",
    "def main(args: Array[String]) \n",
    "{ \n",
    "      \n",
    "    // prints Hello, Geeks! \n",
    "    println(\"Hello, Geeks!\")  \n",
    "} \n",
    "} "
   ]
  },
  {
   "cell_type": "code",
   "execution_count": 4,
   "metadata": {},
   "outputs": [
    {
     "data": {
      "text/plain": [
       "res2: Geeks.type = Geeks$@42ae1f3\n"
      ]
     },
     "execution_count": 4,
     "metadata": {},
     "output_type": "execute_result"
    }
   ],
   "source": [
    "Geeks"
   ]
  },
  {
   "cell_type": "markdown",
   "metadata": {},
   "source": [
    "## **Type of variables**\n",
    "\n",
    "* **Mutable Variables:** These variables are those variables which allow us to change a value after the declaration of a variable. Mutable variables are defined by using the “var” keyword.\n",
    "* **Immutable Variables:** These variables are those variables which do not allow you to change a value after the declaration of a variable. Immutable variables are defined by using the “val” keyword."
   ]
  },
  {
   "cell_type": "code",
   "execution_count": 7,
   "metadata": {},
   "outputs": [
    {
     "data": {
      "text/plain": [
       "name_1: String = geekforgeeks\n",
       "name_2: String = geekforgeeks\n"
      ]
     },
     "execution_count": 7,
     "metadata": {},
     "output_type": "execute_result"
    }
   ],
   "source": [
    "// Mutable Variable\n",
    "var name_1: String = \"geekforgeeks\";\n",
    "\n",
    "// Immutable Variable\n",
    "val name_2: String = \"geekforgeeks\";"
   ]
  },
  {
   "cell_type": "markdown",
   "metadata": {},
   "source": [
    "## **Operators**"
   ]
  },
  {
   "cell_type": "code",
   "execution_count": 8,
   "metadata": {},
   "outputs": [
    {
     "data": {
      "text/plain": [
       "defined object Geeks\n"
      ]
     },
     "execution_count": 8,
     "metadata": {},
     "output_type": "execute_result"
    }
   ],
   "source": [
    "// Scala program to demonstrate  \n",
    "// the Operators \n",
    "  \n",
    "// Creating object \n",
    "object Geeks  \n",
    "{  \n",
    "      \n",
    "    // Main method \n",
    "    def main(args: Array[String])  \n",
    "    {  \n",
    "      \n",
    "          \n",
    "        // Operands  \n",
    "        var a = 10;  \n",
    "        var b = 4;  \n",
    "        var c = true; \n",
    "        var d = false; \n",
    "        var result = 0; \n",
    "             \n",
    "        // using airthmetic operators   \n",
    "        println (\"Addition is: \"+ (a + b) );  \n",
    "        println (\"Subtraction is: \"+ (a - b) ) ;  \n",
    "           \n",
    "        // using Relational Operators  \n",
    "        if (a == b)  \n",
    "        {  \n",
    "           println (\"Equal To Operator is True\");  \n",
    "        }   \n",
    "        else\n",
    "        {  \n",
    "           println (\"Equal To Operator is False\");  \n",
    "        }  \n",
    "           \n",
    "        // using Logical Operator 'OR' \n",
    "        println(\"Logical Or of a || b = \" + (c || d));   \n",
    "           \n",
    "        // using Bitwise AND Operator  \n",
    "        result = a & b;  \n",
    "        println (\"Bitwise AND: \" + result );  \n",
    "           \n",
    "        // using Assignment Operators  \n",
    "        println (\"Addition Assignment Operator: \" + (a += b) );  \n",
    "          \n",
    "    }  \n",
    "}  "
   ]
  },
  {
   "cell_type": "code",
   "execution_count": 9,
   "metadata": {},
   "outputs": [
    {
     "data": {
      "text/plain": [
       "res3: Geeks.type = Geeks$@35c1898c\n"
      ]
     },
     "execution_count": 9,
     "metadata": {},
     "output_type": "execute_result"
    }
   ],
   "source": [
    "Geeks"
   ]
  },
  {
   "cell_type": "code",
   "execution_count": null,
   "metadata": {},
   "outputs": [],
   "source": []
  }
 ],
 "metadata": {
  "kernelspec": {
   "display_name": "spylon-kernel",
   "language": "scala",
   "name": "spylon-kernel"
  },
  "language_info": {
   "codemirror_mode": "text/x-scala",
   "file_extension": ".scala",
   "help_links": [
    {
     "text": "MetaKernel Magics",
     "url": "https://metakernel.readthedocs.io/en/latest/source/README.html"
    }
   ],
   "mimetype": "text/x-scala",
   "name": "scala",
   "pygments_lexer": "scala",
   "version": "0.4.1"
  }
 },
 "nbformat": 4,
 "nbformat_minor": 4
}
