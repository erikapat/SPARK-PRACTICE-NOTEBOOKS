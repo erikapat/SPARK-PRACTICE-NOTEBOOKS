{
 "cells": [
  {
   "cell_type": "markdown",
   "metadata": {},
   "source": [
    "## **PYSPARK MEMORY MANAGEMENT**"
   ]
  },
  {
   "cell_type": "code",
   "execution_count": null,
   "metadata": {},
   "outputs": [],
   "source": []
  },
  {
   "cell_type": "code",
   "execution_count": null,
   "metadata": {},
   "outputs": [],
   "source": [
    "## Inefficient code\n",
    "result = dataframe.collect() #will cause driver to collect the results\n",
    "saveToFile(result)\n",
    "\n",
    "## better code\n",
    "dataFrame.repartition(1).write.csv(\"/file/path\") ## will assign an executor\n",
    "## to collect the result. Assuming executor are better provisioned\n"
   ]
  },
  {
   "cell_type": "markdown",
   "metadata": {},
   "source": [
    "## References\n",
    "\n",
    "* WHY YOUR SPARK APPS ARE SLOW OR FAILING: PART I MEMORY MANAGEMENT. [Here](https://unraveldata.com/common-reasons-spark-applications-slow-fail-part-1/)\n",
    "* WHY YOUR SPARK APPS ARE SLOW OR FAILING: PART II DATA SKEW AND GARBAGE COLLECTION [Here](https://unraveldata.com/common-failures-slowdowns-part-ii/)"
   ]
  },
  {
   "cell_type": "code",
   "execution_count": null,
   "metadata": {},
   "outputs": [],
   "source": []
  }
 ],
 "metadata": {
  "kernelspec": {
   "display_name": "Python 3",
   "language": "python",
   "name": "python3"
  },
  "language_info": {
   "codemirror_mode": {
    "name": "ipython",
    "version": 3
   },
   "file_extension": ".py",
   "mimetype": "text/x-python",
   "name": "python",
   "nbconvert_exporter": "python",
   "pygments_lexer": "ipython3",
   "version": "3.7.4"
  }
 },
 "nbformat": 4,
 "nbformat_minor": 4
}
