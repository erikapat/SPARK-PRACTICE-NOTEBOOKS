{
 "cells": [
  {
   "cell_type": "code",
   "execution_count": 1,
   "metadata": {
    "collapsed": true,
    "jupyter": {
     "outputs_hidden": true
    }
   },
   "outputs": [],
   "source": [
    "def fec_n_meses(fecha, n_meses):\n",
    "    \n",
    "    from dateutil.relativedelta import relativedelta\n",
    "    \n",
    "    fecha = datetime.datetime.strptime(fecha, '%Y%m%d')\n",
    "    \n",
    "    nueva_fecha = fecha-relativedelta(months=-n_meses)\n",
    "    \n",
    "    return datetime.datetime.strftime(nueva_fecha, '%Y%m%d')\n",
    "\n",
    "def n_months_betweeen(m_from, m_to):\n",
    "    import datetime\n",
    "    from dateutil.relativedelta import relativedelta\n",
    "    # n_mon = -1* (relativedelta(m_from,m_to).years*12 + relativedelta(m_from,m_to).months) \n",
    "    n_mon = -1* (relativedelta(m_from + datetime.timedelta(days = 1),m_to + datetime.timedelta(days = 1)).years*12 \n",
    "                 + relativedelta(m_from + datetime.timedelta(days = 1),m_to + datetime.timedelta(days = 1)).months)\n",
    "    return n_mon\n",
    "\n",
    "def last_day_of_month(any_day):\n",
    "    any_day = datetime.datetime.strptime(any_day, '%Y%m%d')\n",
    "    next_month = any_day.replace(day=28) + datetime.timedelta(days=4)  # this will never fail\n",
    "    return datetime.datetime.strftime(next_month - datetime.timedelta(days=next_month.day), '%Y%m%d')\n",
    "\n",
    "def partition_list(p_ini, p_fin, quotes = True):\n",
    "    import datetime\n",
    "    from dateutil.relativedelta import relativedelta\n",
    "\n",
    "    ## Generar lista de fechas (particiones) a partir de inicio y fin\n",
    "    m_from = datetime.datetime.strptime(p_ini, '%Y%m%d')\n",
    "    m_to = datetime.datetime.strptime(p_fin, '%Y%m%d')\n",
    "\n",
    "    # n_mon = -1* (relativedelta(m_from,m_to).years*12 + relativedelta(m_from,m_to).months) \n",
    "    n_mon = n_months_betweeen(m_from, m_to)\n",
    "\n",
    "    aux_step = -1 if n_mon<0 else 1  ## Permitir listas en orden descendente\n",
    "    \n",
    "    my_partition_list = []\n",
    "    for x in range(0, n_mon+aux_step, aux_step):\n",
    "        my_partition_list.append(m_from + datetime.timedelta(days = 1) + relativedelta(months = x) - datetime.timedelta(days = 1))\n",
    "    my_partition_list = [fecha.strftime('%Y%m%d') for fecha in my_partition_list]\n",
    "    if quotes:\n",
    "        my_partition_list = [\"'\"+fecha+\"'\" for fecha in my_partition_list]\n",
    "    \n",
    "    return my_partition_list\n",
    "\n",
    "def get_partitions(table, partition_var = 'partition_id'):\n",
    "    return sorted(sq.sql(f\"\"\"select distinct {partition_var} from {table}\"\"\").toPandas()[partition_var].tolist())\n",
    "\n",
    "def udf_decorator(type_):\n",
    "    \"\"\"\n",
    "    @Args:\n",
    "        - type_: type of the resultant udf\n",
    "    @Computes:\n",
    "        - a decorator of udfs\n",
    "    \"\"\"\n",
    "    \n",
    "    def decorator(f):\n",
    "        return F.udf(f, type_)\n",
    "    return decorator\n",
    "\n",
    "anyo_bisiesto = (lambda x: True if x%4==0 and (x%100!=0 or x%400==0) else False)"
   ]
  },
  {
   "cell_type": "code",
   "execution_count": 2,
   "metadata": {
    "collapsed": true,
    "jupyter": {
     "outputs_hidden": true
    }
   },
   "outputs": [],
   "source": [
    "def crear_tabla (schema, tabla, comentario, var_particionado, **variables):\n",
    "    \n",
    "    j = 0\n",
    "    \n",
    "    var_particionado = var_particionado + \" string\"\n",
    "\n",
    "    for i in list(variables.keys()):\n",
    "        \n",
    "        if j == 0:\n",
    "            \n",
    "            list_var = i + \" \" + variables[i]\n",
    "        \n",
    "        else:\n",
    "            \n",
    "            list_var = list_var + \", \" + i + \" \" + variables[i]\n",
    "            \n",
    "        j = j+1\n",
    "    \n",
    "    query_creacion = f'''create table {schema}.{tabla} ({list_var}) partitioned by ({var_particionado}) stored as parquet\n",
    "    TBLPROPERTIES ('comment' = '{comentario}')'''\n",
    "    \n",
    "    sq.sql(query_creacion)\n",
    "    \n",
    "    print(f\"La tabla {tabla} ha sido creada\")"
   ]
  },
  {
   "cell_type": "code",
   "execution_count": 3,
   "metadata": {
    "collapsed": true,
    "jupyter": {
     "outputs_hidden": true
    }
   },
   "outputs": [],
   "source": [
    "def generar_particion (schema, nombre_tabla, p_inicio, p_fin, var_particionado, query_str):\n",
    "    \n",
    "    for p_ini in partition_list(p_inicio, p_fin,False):\n",
    "    \n",
    "        particion = last_day_of_month(p_ini)\n",
    "\n",
    "        if sq.sql(f'''select count(*) as N from {schema}.{nombre_tabla} where {var_particionado} = {particion}''')\\\n",
    "        .toPandas()['N'].tolist()[0] > 0:\n",
    "\n",
    "            texto = \"La partición {0} de {1} ya existe\".format(particion, nombre_tabla)\n",
    "\n",
    "            print(texto)\n",
    "\n",
    "        else:\n",
    "            \n",
    "            texto = 'Ejecutando la particion {0} de {1}'.format(particion, nombre_tabla)\n",
    "\n",
    "            print(texto)\n",
    "            \n",
    "            sq.sql(query_str.format(schema, nombre_tabla, p_ini, particion))\n",
    "\n",
    "            texto = \"Ejecutada la particion {0} de {1}\".format(particion, nombre_tabla)\n",
    "            \n",
    "            print(texto)"
   ]
  }
 ],
 "metadata": {
  "kernelspec": {
   "display_name": "Python 3",
   "language": "python",
   "name": "python3"
  },
  "language_info": {
   "codemirror_mode": {
    "name": "ipython",
    "version": 3
   },
   "file_extension": ".py",
   "mimetype": "text/x-python",
   "name": "python",
   "nbconvert_exporter": "python",
   "pygments_lexer": "ipython3",
   "version": "3.7.4"
  }
 },
 "nbformat": 4,
 "nbformat_minor": 4
}
